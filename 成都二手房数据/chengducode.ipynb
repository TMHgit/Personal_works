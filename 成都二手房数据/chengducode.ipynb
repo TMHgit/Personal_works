{
 "cells": [
  {
   "cell_type": "code",
   "execution_count": 70,
   "id": "ee52645e",
   "metadata": {
    "ExecuteTime": {
     "end_time": "2021-12-18T07:47:26.254977Z",
     "start_time": "2021-12-18T07:47:25.068879Z"
    }
   },
   "outputs": [],
   "source": [
    "import numpy as np\n",
    "import pandas as pd\n",
    "import matplotlib.pyplot as plt\n",
    "from sklearn.ensemble import RandomForestRegressor\n",
    "from sklearn.model_selection import train_test_split,cross_val_score,GridSearchCV\n",
    "from sklearn.metrics import roc_curve,auc,roc_auc_score\n",
    "import seaborn as sns\n",
    "\n",
    "plt.rcParams['font.sans-serif'] = 'SimHei'\n",
    "plt.rcParams['axes.unicode_minus'] = False\n"
   ]
  },
  {
   "cell_type": "code",
   "execution_count": 3,
   "id": "9a254f5b",
   "metadata": {
    "ExecuteTime": {
     "end_time": "2021-12-18T06:55:34.955274Z",
     "start_time": "2021-12-18T06:55:19.965251Z"
    }
   },
   "outputs": [
    {
     "data": {
      "text/html": [
       "<div>\n",
       "<style scoped>\n",
       "    .dataframe tbody tr th:only-of-type {\n",
       "        vertical-align: middle;\n",
       "    }\n",
       "\n",
       "    .dataframe tbody tr th {\n",
       "        vertical-align: top;\n",
       "    }\n",
       "\n",
       "    .dataframe thead th {\n",
       "        text-align: right;\n",
       "    }\n",
       "</style>\n",
       "<table border=\"1\" class=\"dataframe\">\n",
       "  <thead>\n",
       "    <tr style=\"text-align: right;\">\n",
       "      <th></th>\n",
       "      <th>0</th>\n",
       "      <th>1</th>\n",
       "      <th>2</th>\n",
       "      <th>3</th>\n",
       "      <th>4</th>\n",
       "      <th>5</th>\n",
       "      <th>6</th>\n",
       "      <th>7</th>\n",
       "      <th>8</th>\n",
       "      <th>9</th>\n",
       "      <th>10</th>\n",
       "    </tr>\n",
       "  </thead>\n",
       "  <tbody>\n",
       "    <tr>\n",
       "      <th>0</th>\n",
       "      <td>jinjiang</td>\n",
       "      <td>莲花</td>\n",
       "      <td>2室1厅</td>\n",
       "      <td>60.4平米</td>\n",
       "      <td>东</td>\n",
       "      <td>简装</td>\n",
       "      <td>低楼层(共6层)</td>\n",
       "      <td>修建年限未知</td>\n",
       "      <td>板楼</td>\n",
       "      <td>67万</td>\n",
       "      <td>11,093元/平</td>\n",
       "    </tr>\n",
       "    <tr>\n",
       "      <th>1</th>\n",
       "      <td>jinjiang</td>\n",
       "      <td>合江亭</td>\n",
       "      <td>3室1厅</td>\n",
       "      <td>55.74平米</td>\n",
       "      <td>南</td>\n",
       "      <td>简装</td>\n",
       "      <td>低楼层(共7层)</td>\n",
       "      <td>修建年限未知</td>\n",
       "      <td>板塔结合</td>\n",
       "      <td>100万</td>\n",
       "      <td>17,941元/平</td>\n",
       "    </tr>\n",
       "    <tr>\n",
       "      <th>2</th>\n",
       "      <td>jinjiang</td>\n",
       "      <td>东湖</td>\n",
       "      <td>3室1厅</td>\n",
       "      <td>89.06平米</td>\n",
       "      <td>东南</td>\n",
       "      <td>精装</td>\n",
       "      <td>中楼层(共32层)</td>\n",
       "      <td>2011年建</td>\n",
       "      <td>塔楼</td>\n",
       "      <td>万</td>\n",
       "      <td>参考价:28,297元/平</td>\n",
       "    </tr>\n",
       "    <tr>\n",
       "      <th>3</th>\n",
       "      <td>jinjiang</td>\n",
       "      <td>三官堂</td>\n",
       "      <td>3室2厅</td>\n",
       "      <td>89.41平米</td>\n",
       "      <td>西</td>\n",
       "      <td>精装</td>\n",
       "      <td>高楼层(共34层)</td>\n",
       "      <td>2011年建</td>\n",
       "      <td>板塔结合</td>\n",
       "      <td>267万</td>\n",
       "      <td>29,863元/平</td>\n",
       "    </tr>\n",
       "    <tr>\n",
       "      <th>4</th>\n",
       "      <td>jinjiang</td>\n",
       "      <td>卓锦城</td>\n",
       "      <td>3室1厅</td>\n",
       "      <td>62.43平米</td>\n",
       "      <td>东南</td>\n",
       "      <td>精装</td>\n",
       "      <td>中楼层(共29层)</td>\n",
       "      <td>2015年建</td>\n",
       "      <td>塔楼</td>\n",
       "      <td>万</td>\n",
       "      <td>参考价:28,845元/平</td>\n",
       "    </tr>\n",
       "  </tbody>\n",
       "</table>\n",
       "</div>"
      ],
      "text/plain": [
       "         0    1     2        3   4   5          6       7     8     9   \\\n",
       "0  jinjiang   莲花  2室1厅   60.4平米   东  简装   低楼层(共6层)  修建年限未知    板楼   67万   \n",
       "1  jinjiang  合江亭  3室1厅  55.74平米   南  简装   低楼层(共7层)  修建年限未知  板塔结合  100万   \n",
       "2  jinjiang   东湖  3室1厅  89.06平米  东南  精装  中楼层(共32层)  2011年建    塔楼     万   \n",
       "3  jinjiang  三官堂  3室2厅  89.41平米   西  精装  高楼层(共34层)  2011年建  板塔结合  267万   \n",
       "4  jinjiang  卓锦城  3室1厅  62.43平米  东南  精装  中楼层(共29层)  2015年建    塔楼     万   \n",
       "\n",
       "              10  \n",
       "0      11,093元/平  \n",
       "1      17,941元/平  \n",
       "2  参考价:28,297元/平  \n",
       "3      29,863元/平  \n",
       "4  参考价:28,845元/平  "
      ]
     },
     "execution_count": 3,
     "metadata": {},
     "output_type": "execute_result"
    }
   ],
   "source": [
    "df=pd.read_excel(r'C:/Users/tian/Desktop/chengdudata.xlsx',index_col=0)\n",
    "df.head()"
   ]
  },
  {
   "cell_type": "code",
   "execution_count": 4,
   "id": "808bb225",
   "metadata": {
    "ExecuteTime": {
     "end_time": "2021-12-18T06:55:38.562425Z",
     "start_time": "2021-12-18T06:55:38.541481Z"
    }
   },
   "outputs": [],
   "source": [
    "df.rename(columns={0:'区',1:'小区',2:'房间数',3:'面积',4:'朝向',5:'装修情况',6:'所处楼层',7:'修建年限',8:'楼属性',9:'总价',10:'每平方米价'},inplace=True)"
   ]
  },
  {
   "cell_type": "code",
   "execution_count": 5,
   "id": "10e4e001",
   "metadata": {
    "ExecuteTime": {
     "end_time": "2021-12-18T06:55:39.828925Z",
     "start_time": "2021-12-18T06:55:39.709249Z"
    }
   },
   "outputs": [],
   "source": [
    "temp=['jinjiang','qingyang','wuhou','gaoxin7','chenghua','jinniu','tianfuxinqu','gaoxinxi1','shuangliu','wenjiang','pidou','longquanyi','xindou','tianfuxinqunanqu','qingbaijiang','doujiangyan','pengzhou','jianyang','xinjin','chongzhou1','dayi','jintang','pujiang','qionglai']\n",
    "temps=['锦江','青羊','武侯','高新','成华','金牛','天府新区','高新西','双流','温江','郫都','龙泉驿','新都','天府新区南区','青白江','都江堰','彭州','简阳','新津','崇州','大邑','金堂','蒲江','邛崃']\n",
    "dfs=[]\n",
    "\n",
    "for j in df['区']:\n",
    "    for i in range(len(temp)):\n",
    "        if j==temp[i]:\n",
    "            i=temps[i]\n",
    "            dfs.append(i)\n",
    "\n",
    "df['区']=dfs\n"
   ]
  },
  {
   "cell_type": "code",
   "execution_count": 6,
   "id": "ce042101",
   "metadata": {
    "ExecuteTime": {
     "end_time": "2021-12-18T06:55:40.238286Z",
     "start_time": "2021-12-18T06:55:40.213433Z"
    }
   },
   "outputs": [],
   "source": [
    "df['总价']=df['总价'].apply(lambda x: '面议' if x=='万' else x)"
   ]
  },
  {
   "cell_type": "code",
   "execution_count": 7,
   "id": "4df7a7d6",
   "metadata": {
    "ExecuteTime": {
     "end_time": "2021-12-18T06:55:40.500562Z",
     "start_time": "2021-12-18T06:55:40.453345Z"
    }
   },
   "outputs": [],
   "source": [
    "df['面积']=df['面积'].apply(lambda x: x.replace('平米',''))"
   ]
  },
  {
   "cell_type": "code",
   "execution_count": 8,
   "id": "4b447043",
   "metadata": {
    "ExecuteTime": {
     "end_time": "2021-12-18T06:55:40.717958Z",
     "start_time": "2021-12-18T06:55:40.693025Z"
    }
   },
   "outputs": [],
   "source": [
    "df['所处楼层']=df['所处楼层'].apply(lambda x: x[:3])"
   ]
  },
  {
   "cell_type": "code",
   "execution_count": 9,
   "id": "4470507a",
   "metadata": {
    "ExecuteTime": {
     "end_time": "2021-12-18T06:55:41.265201Z",
     "start_time": "2021-12-18T06:55:41.221291Z"
    }
   },
   "outputs": [],
   "source": [
    "df2=df.query('所处楼层 == \"中楼层\" or 所处楼层 == \"高楼层\" or 所处楼层==\"低楼层\"')"
   ]
  },
  {
   "cell_type": "code",
   "execution_count": 10,
   "id": "b7552ba5",
   "metadata": {
    "ExecuteTime": {
     "end_time": "2021-12-18T06:55:42.129359Z",
     "start_time": "2021-12-18T06:55:41.749189Z"
    }
   },
   "outputs": [
    {
     "name": "stderr",
     "output_type": "stream",
     "text": [
      "C:\\Users\\tian\\AppData\\Local\\Temp/ipykernel_4408/2727042109.py:9: SettingWithCopyWarning: \n",
      "A value is trying to be set on a copy of a slice from a DataFrame.\n",
      "Try using .loc[row_indexer,col_indexer] = value instead\n",
      "\n",
      "See the caveats in the documentation: https://pandas.pydata.org/pandas-docs/stable/user_guide/indexing.html#returning-a-view-versus-a-copy\n",
      "  df2['楼层得分']=df2.apply(make_code,axis=1)\n"
     ]
    }
   ],
   "source": [
    "# 2 特征编码\n",
    "x=df2\n",
    "def make_code(x):\n",
    "    tag={'高楼层':1,\n",
    "        '中楼层':2,\n",
    "        '低楼层':3}\n",
    "    key=x['所处楼层']\n",
    "    return tag.get(key)\n",
    "df2['楼层得分']=df2.apply(make_code,axis=1)"
   ]
  },
  {
   "cell_type": "code",
   "execution_count": 11,
   "id": "5ec4f7e9",
   "metadata": {
    "ExecuteTime": {
     "end_time": "2021-12-18T06:55:42.826122Z",
     "start_time": "2021-12-18T06:55:42.405731Z"
    }
   },
   "outputs": [
    {
     "name": "stderr",
     "output_type": "stream",
     "text": [
      "C:\\Users\\tian\\AppData\\Local\\Temp/ipykernel_4408/178891322.py:9: SettingWithCopyWarning: \n",
      "A value is trying to be set on a copy of a slice from a DataFrame.\n",
      "Try using .loc[row_indexer,col_indexer] = value instead\n",
      "\n",
      "See the caveats in the documentation: https://pandas.pydata.org/pandas-docs/stable/user_guide/indexing.html#returning-a-view-versus-a-copy\n",
      "  df2['装修得分']=df2.apply(make_codes,axis=1)\n"
     ]
    }
   ],
   "source": [
    "xs=df2\n",
    "def make_codes(xs):\n",
    "    tags={'其他':1,\n",
    "        '毛胚':2,\n",
    "        '简装':4,\n",
    "        '精装':6}\n",
    "    keys=xs['装修情况']\n",
    "    return tags.get(keys)\n",
    "df2['装修得分']=df2.apply(make_codes,axis=1)"
   ]
  },
  {
   "cell_type": "code",
   "execution_count": 12,
   "id": "0da2f8a2",
   "metadata": {
    "ExecuteTime": {
     "end_time": "2021-12-18T06:55:43.676569Z",
     "start_time": "2021-12-18T06:55:43.260683Z"
    }
   },
   "outputs": [
    {
     "name": "stderr",
     "output_type": "stream",
     "text": [
      "C:\\Users\\tian\\AppData\\Local\\Temp/ipykernel_4408/790845384.py:22: SettingWithCopyWarning: \n",
      "A value is trying to be set on a copy of a slice from a DataFrame.\n",
      "Try using .loc[row_indexer,col_indexer] = value instead\n",
      "\n",
      "See the caveats in the documentation: https://pandas.pydata.org/pandas-docs/stable/user_guide/indexing.html#returning-a-view-versus-a-copy\n",
      "  df2['房间数得分']=df2.apply(make_codess,axis=1)\n"
     ]
    }
   ],
   "source": [
    "xss=df2\n",
    "def make_codess(xss):\n",
    "    tagss={'1室0厅':0.5,\n",
    "        '1室1厅':1,\n",
    "        '1室2厅':1.5,\n",
    "        '2室0厅':2,\n",
    "        '2室1厅':2.5,\n",
    "        '2室2厅':3,\n",
    "        '3室0厅':3.5,\n",
    "        '3室1厅':4,\n",
    "        '3室2厅':4.5,\n",
    "        '3室3厅':5,\n",
    "        '4室1厅':5.5,\n",
    "        '4室2厅':6,\n",
    "        '4室3厅':6.5,\n",
    "        '5室1厅':7,\n",
    "        '5室2厅':7.5,\n",
    "        '5室3厅':8,\n",
    "        '6室2厅':9}\n",
    "    keyss=xss['房间数']\n",
    "    return tagss.get(keyss)\n",
    "df2['房间数得分']=df2.apply(make_codess,axis=1)"
   ]
  },
  {
   "cell_type": "code",
   "execution_count": 13,
   "id": "4763a99f",
   "metadata": {
    "ExecuteTime": {
     "end_time": "2021-12-18T06:55:44.228109Z",
     "start_time": "2021-12-18T06:55:44.173665Z"
    }
   },
   "outputs": [],
   "source": [
    "df2=df2.drop(columns=['房间数'])"
   ]
  },
  {
   "cell_type": "code",
   "execution_count": 14,
   "id": "90d0e322",
   "metadata": {
    "ExecuteTime": {
     "end_time": "2021-12-18T06:55:45.254963Z",
     "start_time": "2021-12-18T06:55:44.877030Z"
    }
   },
   "outputs": [],
   "source": [
    "ts=df2\n",
    "def make_c(ts):\n",
    "    tss={'暂无数据':1,\n",
    "        '板楼':2,\n",
    "        '板塔结合':3,\n",
    "        '塔楼':4,\n",
    "        '平房':5}\n",
    "    kss=ts['楼属性']\n",
    "    return tss.get(kss)\n",
    "df2['楼属性得分']=df2.apply(make_c,axis=1)"
   ]
  },
  {
   "cell_type": "code",
   "execution_count": 15,
   "id": "614b457b",
   "metadata": {
    "ExecuteTime": {
     "end_time": "2021-12-18T06:55:45.381781Z",
     "start_time": "2021-12-18T06:55:45.361505Z"
    }
   },
   "outputs": [],
   "source": [
    "df2=df2.drop(columns=['楼属性'])"
   ]
  },
  {
   "cell_type": "code",
   "execution_count": 16,
   "id": "31dfb8a9",
   "metadata": {
    "ExecuteTime": {
     "end_time": "2021-12-18T06:55:45.934942Z",
     "start_time": "2021-12-18T06:55:45.900993Z"
    }
   },
   "outputs": [
    {
     "data": {
      "text/html": [
       "<div>\n",
       "<style scoped>\n",
       "    .dataframe tbody tr th:only-of-type {\n",
       "        vertical-align: middle;\n",
       "    }\n",
       "\n",
       "    .dataframe tbody tr th {\n",
       "        vertical-align: top;\n",
       "    }\n",
       "\n",
       "    .dataframe thead th {\n",
       "        text-align: right;\n",
       "    }\n",
       "</style>\n",
       "<table border=\"1\" class=\"dataframe\">\n",
       "  <thead>\n",
       "    <tr style=\"text-align: right;\">\n",
       "      <th></th>\n",
       "      <th>区</th>\n",
       "      <th>小区</th>\n",
       "      <th>面积</th>\n",
       "      <th>朝向</th>\n",
       "      <th>装修情况</th>\n",
       "      <th>所处楼层</th>\n",
       "      <th>修建年限</th>\n",
       "      <th>总价</th>\n",
       "      <th>每平方米价</th>\n",
       "      <th>楼层得分</th>\n",
       "      <th>装修得分</th>\n",
       "      <th>房间数得分</th>\n",
       "      <th>楼属性得分</th>\n",
       "    </tr>\n",
       "  </thead>\n",
       "  <tbody>\n",
       "    <tr>\n",
       "      <th>0</th>\n",
       "      <td>锦江</td>\n",
       "      <td>莲花</td>\n",
       "      <td>60.4</td>\n",
       "      <td>东</td>\n",
       "      <td>简装</td>\n",
       "      <td>低楼层</td>\n",
       "      <td>修建年限未知</td>\n",
       "      <td>67万</td>\n",
       "      <td>11,093元/平</td>\n",
       "      <td>3</td>\n",
       "      <td>4.0</td>\n",
       "      <td>2.5</td>\n",
       "      <td>2</td>\n",
       "    </tr>\n",
       "    <tr>\n",
       "      <th>1</th>\n",
       "      <td>锦江</td>\n",
       "      <td>合江亭</td>\n",
       "      <td>55.74</td>\n",
       "      <td>南</td>\n",
       "      <td>简装</td>\n",
       "      <td>低楼层</td>\n",
       "      <td>修建年限未知</td>\n",
       "      <td>100万</td>\n",
       "      <td>17,941元/平</td>\n",
       "      <td>3</td>\n",
       "      <td>4.0</td>\n",
       "      <td>4.0</td>\n",
       "      <td>3</td>\n",
       "    </tr>\n",
       "    <tr>\n",
       "      <th>2</th>\n",
       "      <td>锦江</td>\n",
       "      <td>东湖</td>\n",
       "      <td>89.06</td>\n",
       "      <td>东南</td>\n",
       "      <td>精装</td>\n",
       "      <td>中楼层</td>\n",
       "      <td>2011年建</td>\n",
       "      <td>面议</td>\n",
       "      <td>参考价:28,297元/平</td>\n",
       "      <td>2</td>\n",
       "      <td>6.0</td>\n",
       "      <td>4.0</td>\n",
       "      <td>4</td>\n",
       "    </tr>\n",
       "    <tr>\n",
       "      <th>3</th>\n",
       "      <td>锦江</td>\n",
       "      <td>三官堂</td>\n",
       "      <td>89.41</td>\n",
       "      <td>西</td>\n",
       "      <td>精装</td>\n",
       "      <td>高楼层</td>\n",
       "      <td>2011年建</td>\n",
       "      <td>267万</td>\n",
       "      <td>29,863元/平</td>\n",
       "      <td>1</td>\n",
       "      <td>6.0</td>\n",
       "      <td>4.5</td>\n",
       "      <td>3</td>\n",
       "    </tr>\n",
       "    <tr>\n",
       "      <th>4</th>\n",
       "      <td>锦江</td>\n",
       "      <td>卓锦城</td>\n",
       "      <td>62.43</td>\n",
       "      <td>东南</td>\n",
       "      <td>精装</td>\n",
       "      <td>中楼层</td>\n",
       "      <td>2015年建</td>\n",
       "      <td>面议</td>\n",
       "      <td>参考价:28,845元/平</td>\n",
       "      <td>2</td>\n",
       "      <td>6.0</td>\n",
       "      <td>4.0</td>\n",
       "      <td>4</td>\n",
       "    </tr>\n",
       "    <tr>\n",
       "      <th>...</th>\n",
       "      <td>...</td>\n",
       "      <td>...</td>\n",
       "      <td>...</td>\n",
       "      <td>...</td>\n",
       "      <td>...</td>\n",
       "      <td>...</td>\n",
       "      <td>...</td>\n",
       "      <td>...</td>\n",
       "      <td>...</td>\n",
       "      <td>...</td>\n",
       "      <td>...</td>\n",
       "      <td>...</td>\n",
       "      <td>...</td>\n",
       "    </tr>\n",
       "    <tr>\n",
       "      <th>55635</th>\n",
       "      <td>邛崃</td>\n",
       "      <td>三圣乡</td>\n",
       "      <td>47.2</td>\n",
       "      <td>西南</td>\n",
       "      <td>精装</td>\n",
       "      <td>高楼层</td>\n",
       "      <td>2011年建</td>\n",
       "      <td>102万</td>\n",
       "      <td>21,611元/平</td>\n",
       "      <td>1</td>\n",
       "      <td>6.0</td>\n",
       "      <td>2.5</td>\n",
       "      <td>3</td>\n",
       "    </tr>\n",
       "    <tr>\n",
       "      <th>55636</th>\n",
       "      <td>邛崃</td>\n",
       "      <td>三官堂</td>\n",
       "      <td>57.61</td>\n",
       "      <td>东</td>\n",
       "      <td>简装</td>\n",
       "      <td>高楼层</td>\n",
       "      <td>2009年建</td>\n",
       "      <td>118万</td>\n",
       "      <td>20,483元/平</td>\n",
       "      <td>1</td>\n",
       "      <td>4.0</td>\n",
       "      <td>1.5</td>\n",
       "      <td>3</td>\n",
       "    </tr>\n",
       "    <tr>\n",
       "      <th>55637</th>\n",
       "      <td>邛崃</td>\n",
       "      <td>三圣乡</td>\n",
       "      <td>76.48</td>\n",
       "      <td>东北</td>\n",
       "      <td>精装</td>\n",
       "      <td>低楼层</td>\n",
       "      <td>2011年建</td>\n",
       "      <td>155万</td>\n",
       "      <td>20,267元/平</td>\n",
       "      <td>3</td>\n",
       "      <td>6.0</td>\n",
       "      <td>4.0</td>\n",
       "      <td>3</td>\n",
       "    </tr>\n",
       "    <tr>\n",
       "      <th>55638</th>\n",
       "      <td>邛崃</td>\n",
       "      <td>三圣乡</td>\n",
       "      <td>64.1</td>\n",
       "      <td>西北</td>\n",
       "      <td>简装</td>\n",
       "      <td>低楼层</td>\n",
       "      <td>2015年建</td>\n",
       "      <td>119万</td>\n",
       "      <td>18,565元/平</td>\n",
       "      <td>3</td>\n",
       "      <td>4.0</td>\n",
       "      <td>2.5</td>\n",
       "      <td>4</td>\n",
       "    </tr>\n",
       "    <tr>\n",
       "      <th>55639</th>\n",
       "      <td>邛崃</td>\n",
       "      <td>川师</td>\n",
       "      <td>126.06</td>\n",
       "      <td>南北</td>\n",
       "      <td>精装</td>\n",
       "      <td>高楼层</td>\n",
       "      <td>2007年建</td>\n",
       "      <td>面议</td>\n",
       "      <td>参考价:25,135元/平</td>\n",
       "      <td>1</td>\n",
       "      <td>6.0</td>\n",
       "      <td>4.5</td>\n",
       "      <td>3</td>\n",
       "    </tr>\n",
       "  </tbody>\n",
       "</table>\n",
       "<p>53607 rows × 13 columns</p>\n",
       "</div>"
      ],
      "text/plain": [
       "        区   小区      面积  朝向 装修情况 所处楼层    修建年限    总价          每平方米价  楼层得分  装修得分  \\\n",
       "0      锦江   莲花    60.4   东   简装  低楼层  修建年限未知   67万      11,093元/平     3   4.0   \n",
       "1      锦江  合江亭   55.74   南   简装  低楼层  修建年限未知  100万      17,941元/平     3   4.0   \n",
       "2      锦江   东湖   89.06  东南   精装  中楼层  2011年建    面议  参考价:28,297元/平     2   6.0   \n",
       "3      锦江  三官堂   89.41   西   精装  高楼层  2011年建  267万      29,863元/平     1   6.0   \n",
       "4      锦江  卓锦城   62.43  东南   精装  中楼层  2015年建    面议  参考价:28,845元/平     2   6.0   \n",
       "...    ..  ...     ...  ..  ...  ...     ...   ...            ...   ...   ...   \n",
       "55635  邛崃  三圣乡    47.2  西南   精装  高楼层  2011年建  102万      21,611元/平     1   6.0   \n",
       "55636  邛崃  三官堂   57.61   东   简装  高楼层  2009年建  118万      20,483元/平     1   4.0   \n",
       "55637  邛崃  三圣乡   76.48  东北   精装  低楼层  2011年建  155万      20,267元/平     3   6.0   \n",
       "55638  邛崃  三圣乡    64.1  西北   简装  低楼层  2015年建  119万      18,565元/平     3   4.0   \n",
       "55639  邛崃   川师  126.06  南北   精装  高楼层  2007年建    面议  参考价:25,135元/平     1   6.0   \n",
       "\n",
       "       房间数得分  楼属性得分  \n",
       "0        2.5      2  \n",
       "1        4.0      3  \n",
       "2        4.0      4  \n",
       "3        4.5      3  \n",
       "4        4.0      4  \n",
       "...      ...    ...  \n",
       "55635    2.5      3  \n",
       "55636    1.5      3  \n",
       "55637    4.0      3  \n",
       "55638    2.5      4  \n",
       "55639    4.5      3  \n",
       "\n",
       "[53607 rows x 13 columns]"
      ]
     },
     "execution_count": 16,
     "metadata": {},
     "output_type": "execute_result"
    }
   ],
   "source": [
    "df2"
   ]
  },
  {
   "cell_type": "code",
   "execution_count": 18,
   "id": "dfb60fa7",
   "metadata": {
    "ExecuteTime": {
     "end_time": "2021-12-18T06:57:41.426549Z",
     "start_time": "2021-12-18T06:57:41.398687Z"
    }
   },
   "outputs": [
    {
     "data": {
      "text/html": [
       "<div>\n",
       "<style scoped>\n",
       "    .dataframe tbody tr th:only-of-type {\n",
       "        vertical-align: middle;\n",
       "    }\n",
       "\n",
       "    .dataframe tbody tr th {\n",
       "        vertical-align: top;\n",
       "    }\n",
       "\n",
       "    .dataframe thead th {\n",
       "        text-align: right;\n",
       "    }\n",
       "</style>\n",
       "<table border=\"1\" class=\"dataframe\">\n",
       "  <thead>\n",
       "    <tr style=\"text-align: right;\">\n",
       "      <th></th>\n",
       "      <th>区</th>\n",
       "      <th>小区</th>\n",
       "      <th>面积</th>\n",
       "      <th>朝向</th>\n",
       "      <th>装修情况</th>\n",
       "      <th>所处楼层</th>\n",
       "      <th>修建年限</th>\n",
       "      <th>总价</th>\n",
       "      <th>每平方米价</th>\n",
       "      <th>楼层得分</th>\n",
       "      <th>装修得分</th>\n",
       "      <th>房间数得分</th>\n",
       "      <th>楼属性得分</th>\n",
       "    </tr>\n",
       "  </thead>\n",
       "  <tbody>\n",
       "    <tr>\n",
       "      <th>0</th>\n",
       "      <td>锦江</td>\n",
       "      <td>莲花</td>\n",
       "      <td>60.4</td>\n",
       "      <td>东</td>\n",
       "      <td>简装</td>\n",
       "      <td>低楼层</td>\n",
       "      <td>修建年限未知</td>\n",
       "      <td>67万</td>\n",
       "      <td>11,093元/平</td>\n",
       "      <td>3</td>\n",
       "      <td>4.0</td>\n",
       "      <td>2.5</td>\n",
       "      <td>2</td>\n",
       "    </tr>\n",
       "    <tr>\n",
       "      <th>1</th>\n",
       "      <td>锦江</td>\n",
       "      <td>合江亭</td>\n",
       "      <td>55.74</td>\n",
       "      <td>南</td>\n",
       "      <td>简装</td>\n",
       "      <td>低楼层</td>\n",
       "      <td>修建年限未知</td>\n",
       "      <td>100万</td>\n",
       "      <td>17,941元/平</td>\n",
       "      <td>3</td>\n",
       "      <td>4.0</td>\n",
       "      <td>4.0</td>\n",
       "      <td>3</td>\n",
       "    </tr>\n",
       "    <tr>\n",
       "      <th>3</th>\n",
       "      <td>锦江</td>\n",
       "      <td>三官堂</td>\n",
       "      <td>89.41</td>\n",
       "      <td>西</td>\n",
       "      <td>精装</td>\n",
       "      <td>高楼层</td>\n",
       "      <td>2011年建</td>\n",
       "      <td>267万</td>\n",
       "      <td>29,863元/平</td>\n",
       "      <td>1</td>\n",
       "      <td>6.0</td>\n",
       "      <td>4.5</td>\n",
       "      <td>3</td>\n",
       "    </tr>\n",
       "    <tr>\n",
       "      <th>5</th>\n",
       "      <td>锦江</td>\n",
       "      <td>静居寺</td>\n",
       "      <td>128.25</td>\n",
       "      <td>南</td>\n",
       "      <td>简装</td>\n",
       "      <td>低楼层</td>\n",
       "      <td>2007年建</td>\n",
       "      <td>280万</td>\n",
       "      <td>21,833元/平</td>\n",
       "      <td>3</td>\n",
       "      <td>4.0</td>\n",
       "      <td>4.0</td>\n",
       "      <td>2</td>\n",
       "    </tr>\n",
       "    <tr>\n",
       "      <th>7</th>\n",
       "      <td>锦江</td>\n",
       "      <td>卓锦城</td>\n",
       "      <td>75.44</td>\n",
       "      <td>西南</td>\n",
       "      <td>精装</td>\n",
       "      <td>低楼层</td>\n",
       "      <td>2012年建</td>\n",
       "      <td>155万</td>\n",
       "      <td>20,547元/平</td>\n",
       "      <td>3</td>\n",
       "      <td>6.0</td>\n",
       "      <td>3.0</td>\n",
       "      <td>3</td>\n",
       "    </tr>\n",
       "    <tr>\n",
       "      <th>...</th>\n",
       "      <td>...</td>\n",
       "      <td>...</td>\n",
       "      <td>...</td>\n",
       "      <td>...</td>\n",
       "      <td>...</td>\n",
       "      <td>...</td>\n",
       "      <td>...</td>\n",
       "      <td>...</td>\n",
       "      <td>...</td>\n",
       "      <td>...</td>\n",
       "      <td>...</td>\n",
       "      <td>...</td>\n",
       "      <td>...</td>\n",
       "    </tr>\n",
       "    <tr>\n",
       "      <th>55633</th>\n",
       "      <td>邛崃</td>\n",
       "      <td>静居寺</td>\n",
       "      <td>68.99</td>\n",
       "      <td>西南</td>\n",
       "      <td>简装</td>\n",
       "      <td>中楼层</td>\n",
       "      <td>2011年建</td>\n",
       "      <td>141万</td>\n",
       "      <td>20,438元/平</td>\n",
       "      <td>2</td>\n",
       "      <td>4.0</td>\n",
       "      <td>2.5</td>\n",
       "      <td>4</td>\n",
       "    </tr>\n",
       "    <tr>\n",
       "      <th>55635</th>\n",
       "      <td>邛崃</td>\n",
       "      <td>三圣乡</td>\n",
       "      <td>47.2</td>\n",
       "      <td>西南</td>\n",
       "      <td>精装</td>\n",
       "      <td>高楼层</td>\n",
       "      <td>2011年建</td>\n",
       "      <td>102万</td>\n",
       "      <td>21,611元/平</td>\n",
       "      <td>1</td>\n",
       "      <td>6.0</td>\n",
       "      <td>2.5</td>\n",
       "      <td>3</td>\n",
       "    </tr>\n",
       "    <tr>\n",
       "      <th>55636</th>\n",
       "      <td>邛崃</td>\n",
       "      <td>三官堂</td>\n",
       "      <td>57.61</td>\n",
       "      <td>东</td>\n",
       "      <td>简装</td>\n",
       "      <td>高楼层</td>\n",
       "      <td>2009年建</td>\n",
       "      <td>118万</td>\n",
       "      <td>20,483元/平</td>\n",
       "      <td>1</td>\n",
       "      <td>4.0</td>\n",
       "      <td>1.5</td>\n",
       "      <td>3</td>\n",
       "    </tr>\n",
       "    <tr>\n",
       "      <th>55637</th>\n",
       "      <td>邛崃</td>\n",
       "      <td>三圣乡</td>\n",
       "      <td>76.48</td>\n",
       "      <td>东北</td>\n",
       "      <td>精装</td>\n",
       "      <td>低楼层</td>\n",
       "      <td>2011年建</td>\n",
       "      <td>155万</td>\n",
       "      <td>20,267元/平</td>\n",
       "      <td>3</td>\n",
       "      <td>6.0</td>\n",
       "      <td>4.0</td>\n",
       "      <td>3</td>\n",
       "    </tr>\n",
       "    <tr>\n",
       "      <th>55638</th>\n",
       "      <td>邛崃</td>\n",
       "      <td>三圣乡</td>\n",
       "      <td>64.1</td>\n",
       "      <td>西北</td>\n",
       "      <td>简装</td>\n",
       "      <td>低楼层</td>\n",
       "      <td>2015年建</td>\n",
       "      <td>119万</td>\n",
       "      <td>18,565元/平</td>\n",
       "      <td>3</td>\n",
       "      <td>4.0</td>\n",
       "      <td>2.5</td>\n",
       "      <td>4</td>\n",
       "    </tr>\n",
       "  </tbody>\n",
       "</table>\n",
       "<p>41563 rows × 13 columns</p>\n",
       "</div>"
      ],
      "text/plain": [
       "        区   小区      面积  朝向 装修情况 所处楼层    修建年限    总价      每平方米价  楼层得分  装修得分  \\\n",
       "0      锦江   莲花    60.4   东   简装  低楼层  修建年限未知   67万  11,093元/平     3   4.0   \n",
       "1      锦江  合江亭   55.74   南   简装  低楼层  修建年限未知  100万  17,941元/平     3   4.0   \n",
       "3      锦江  三官堂   89.41   西   精装  高楼层  2011年建  267万  29,863元/平     1   6.0   \n",
       "5      锦江  静居寺  128.25   南   简装  低楼层  2007年建  280万  21,833元/平     3   4.0   \n",
       "7      锦江  卓锦城   75.44  西南   精装  低楼层  2012年建  155万  20,547元/平     3   6.0   \n",
       "...    ..  ...     ...  ..  ...  ...     ...   ...        ...   ...   ...   \n",
       "55633  邛崃  静居寺   68.99  西南   简装  中楼层  2011年建  141万  20,438元/平     2   4.0   \n",
       "55635  邛崃  三圣乡    47.2  西南   精装  高楼层  2011年建  102万  21,611元/平     1   6.0   \n",
       "55636  邛崃  三官堂   57.61   东   简装  高楼层  2009年建  118万  20,483元/平     1   4.0   \n",
       "55637  邛崃  三圣乡   76.48  东北   精装  低楼层  2011年建  155万  20,267元/平     3   6.0   \n",
       "55638  邛崃  三圣乡    64.1  西北   简装  低楼层  2015年建  119万  18,565元/平     3   4.0   \n",
       "\n",
       "       房间数得分  楼属性得分  \n",
       "0        2.5      2  \n",
       "1        4.0      3  \n",
       "3        4.5      3  \n",
       "5        4.0      2  \n",
       "7        3.0      3  \n",
       "...      ...    ...  \n",
       "55633    2.5      4  \n",
       "55635    2.5      3  \n",
       "55636    1.5      3  \n",
       "55637    4.0      3  \n",
       "55638    2.5      4  \n",
       "\n",
       "[41563 rows x 13 columns]"
      ]
     },
     "execution_count": 18,
     "metadata": {},
     "output_type": "execute_result"
    }
   ],
   "source": [
    "df3=df2[df2['总价']!='面议']\n",
    "df3"
   ]
  },
  {
   "cell_type": "code",
   "execution_count": 28,
   "id": "0a4d8dea",
   "metadata": {
    "ExecuteTime": {
     "end_time": "2021-12-18T07:18:29.407405Z",
     "start_time": "2021-12-18T07:18:29.395467Z"
    }
   },
   "outputs": [],
   "source": [
    "df4=df3[['面积','楼层得分','装修得分','房间数得分','楼属性得分','总价']]\n",
    "df4.reset_index(inplace=True)"
   ]
  },
  {
   "cell_type": "code",
   "execution_count": 36,
   "id": "b71176c5",
   "metadata": {
    "ExecuteTime": {
     "end_time": "2021-12-18T07:20:46.297438Z",
     "start_time": "2021-12-18T07:20:46.187311Z"
    }
   },
   "outputs": [
    {
     "name": "stderr",
     "output_type": "stream",
     "text": [
      "C:\\Users\\tian\\AppData\\Local\\Temp/ipykernel_4408/3410999721.py:1: SettingWithCopyWarning: \n",
      "A value is trying to be set on a copy of a slice from a DataFrame.\n",
      "Try using .loc[row_indexer,col_indexer] = value instead\n",
      "\n",
      "See the caveats in the documentation: https://pandas.pydata.org/pandas-docs/stable/user_guide/indexing.html#returning-a-view-versus-a-copy\n",
      "  df4['总价']=df4['总价'].apply(lambda x:float(x.replace('万','')))\n"
     ]
    }
   ],
   "source": [
    "df4['总价']=df4['总价'].apply(lambda x:float(x.replace('万','')))"
   ]
  },
  {
   "cell_type": "code",
   "execution_count": 39,
   "id": "68b655d2",
   "metadata": {
    "ExecuteTime": {
     "end_time": "2021-12-18T07:24:03.787767Z",
     "start_time": "2021-12-18T07:24:03.766797Z"
    }
   },
   "outputs": [
    {
     "name": "stderr",
     "output_type": "stream",
     "text": [
      "e:\\python3.9\\lib\\site-packages\\pandas\\core\\frame.py:4906: SettingWithCopyWarning: \n",
      "A value is trying to be set on a copy of a slice from a DataFrame\n",
      "\n",
      "See the caveats in the documentation: https://pandas.pydata.org/pandas-docs/stable/user_guide/indexing.html#returning-a-view-versus-a-copy\n",
      "  return super().drop(\n"
     ]
    }
   ],
   "source": [
    "df4.drop('index',axis=1,inplace=True)"
   ]
  },
  {
   "cell_type": "code",
   "execution_count": 43,
   "id": "31c7c5c0",
   "metadata": {
    "ExecuteTime": {
     "end_time": "2021-12-18T07:25:03.872952Z",
     "start_time": "2021-12-18T07:25:03.853044Z"
    }
   },
   "outputs": [
    {
     "data": {
      "text/html": [
       "<div>\n",
       "<style scoped>\n",
       "    .dataframe tbody tr th:only-of-type {\n",
       "        vertical-align: middle;\n",
       "    }\n",
       "\n",
       "    .dataframe tbody tr th {\n",
       "        vertical-align: top;\n",
       "    }\n",
       "\n",
       "    .dataframe thead th {\n",
       "        text-align: right;\n",
       "    }\n",
       "</style>\n",
       "<table border=\"1\" class=\"dataframe\">\n",
       "  <thead>\n",
       "    <tr style=\"text-align: right;\">\n",
       "      <th></th>\n",
       "      <th>面积</th>\n",
       "      <th>楼层得分</th>\n",
       "      <th>装修得分</th>\n",
       "      <th>房间数得分</th>\n",
       "      <th>楼属性得分</th>\n",
       "      <th>总价</th>\n",
       "    </tr>\n",
       "  </thead>\n",
       "  <tbody>\n",
       "    <tr>\n",
       "      <th>0</th>\n",
       "      <td>60.4</td>\n",
       "      <td>3</td>\n",
       "      <td>4.0</td>\n",
       "      <td>2.5</td>\n",
       "      <td>2</td>\n",
       "      <td>67.0</td>\n",
       "    </tr>\n",
       "    <tr>\n",
       "      <th>1</th>\n",
       "      <td>55.74</td>\n",
       "      <td>3</td>\n",
       "      <td>4.0</td>\n",
       "      <td>4.0</td>\n",
       "      <td>3</td>\n",
       "      <td>100.0</td>\n",
       "    </tr>\n",
       "    <tr>\n",
       "      <th>2</th>\n",
       "      <td>89.41</td>\n",
       "      <td>1</td>\n",
       "      <td>6.0</td>\n",
       "      <td>4.5</td>\n",
       "      <td>3</td>\n",
       "      <td>267.0</td>\n",
       "    </tr>\n",
       "    <tr>\n",
       "      <th>3</th>\n",
       "      <td>128.25</td>\n",
       "      <td>3</td>\n",
       "      <td>4.0</td>\n",
       "      <td>4.0</td>\n",
       "      <td>2</td>\n",
       "      <td>280.0</td>\n",
       "    </tr>\n",
       "    <tr>\n",
       "      <th>4</th>\n",
       "      <td>75.44</td>\n",
       "      <td>3</td>\n",
       "      <td>6.0</td>\n",
       "      <td>3.0</td>\n",
       "      <td>3</td>\n",
       "      <td>155.0</td>\n",
       "    </tr>\n",
       "    <tr>\n",
       "      <th>...</th>\n",
       "      <td>...</td>\n",
       "      <td>...</td>\n",
       "      <td>...</td>\n",
       "      <td>...</td>\n",
       "      <td>...</td>\n",
       "      <td>...</td>\n",
       "    </tr>\n",
       "    <tr>\n",
       "      <th>41558</th>\n",
       "      <td>68.99</td>\n",
       "      <td>2</td>\n",
       "      <td>4.0</td>\n",
       "      <td>2.5</td>\n",
       "      <td>4</td>\n",
       "      <td>141.0</td>\n",
       "    </tr>\n",
       "    <tr>\n",
       "      <th>41559</th>\n",
       "      <td>47.2</td>\n",
       "      <td>1</td>\n",
       "      <td>6.0</td>\n",
       "      <td>2.5</td>\n",
       "      <td>3</td>\n",
       "      <td>102.0</td>\n",
       "    </tr>\n",
       "    <tr>\n",
       "      <th>41560</th>\n",
       "      <td>57.61</td>\n",
       "      <td>1</td>\n",
       "      <td>4.0</td>\n",
       "      <td>1.5</td>\n",
       "      <td>3</td>\n",
       "      <td>118.0</td>\n",
       "    </tr>\n",
       "    <tr>\n",
       "      <th>41561</th>\n",
       "      <td>76.48</td>\n",
       "      <td>3</td>\n",
       "      <td>6.0</td>\n",
       "      <td>4.0</td>\n",
       "      <td>3</td>\n",
       "      <td>155.0</td>\n",
       "    </tr>\n",
       "    <tr>\n",
       "      <th>41562</th>\n",
       "      <td>64.1</td>\n",
       "      <td>3</td>\n",
       "      <td>4.0</td>\n",
       "      <td>2.5</td>\n",
       "      <td>4</td>\n",
       "      <td>119.0</td>\n",
       "    </tr>\n",
       "  </tbody>\n",
       "</table>\n",
       "<p>41563 rows × 6 columns</p>\n",
       "</div>"
      ],
      "text/plain": [
       "           面积  楼层得分  装修得分  房间数得分  楼属性得分     总价\n",
       "0        60.4     3   4.0    2.5      2   67.0\n",
       "1       55.74     3   4.0    4.0      3  100.0\n",
       "2       89.41     1   6.0    4.5      3  267.0\n",
       "3      128.25     3   4.0    4.0      2  280.0\n",
       "4       75.44     3   6.0    3.0      3  155.0\n",
       "...       ...   ...   ...    ...    ...    ...\n",
       "41558   68.99     2   4.0    2.5      4  141.0\n",
       "41559    47.2     1   6.0    2.5      3  102.0\n",
       "41560   57.61     1   4.0    1.5      3  118.0\n",
       "41561   76.48     3   6.0    4.0      3  155.0\n",
       "41562    64.1     3   4.0    2.5      4  119.0\n",
       "\n",
       "[41563 rows x 6 columns]"
      ]
     },
     "execution_count": 43,
     "metadata": {},
     "output_type": "execute_result"
    }
   ],
   "source": [
    "df4"
   ]
  },
  {
   "cell_type": "code",
   "execution_count": 58,
   "id": "33d5054a",
   "metadata": {
    "ExecuteTime": {
     "end_time": "2021-12-18T07:34:21.404747Z",
     "start_time": "2021-12-18T07:34:21.378648Z"
    }
   },
   "outputs": [
    {
     "name": "stdout",
     "output_type": "stream",
     "text": [
      "<class 'pandas.core.frame.DataFrame'>\n",
      "RangeIndex: 41563 entries, 0 to 41562\n",
      "Data columns (total 6 columns):\n",
      " #   Column  Non-Null Count  Dtype  \n",
      "---  ------  --------------  -----  \n",
      " 0   面积      41563 non-null  object \n",
      " 1   楼层得分    41563 non-null  int64  \n",
      " 2   装修得分    41563 non-null  float64\n",
      " 3   房间数得分   41563 non-null  float64\n",
      " 4   楼属性得分   41563 non-null  int64  \n",
      " 5   总价      41563 non-null  float64\n",
      "dtypes: float64(3), int64(2), object(1)\n",
      "memory usage: 1.9+ MB\n"
     ]
    },
    {
     "name": "stderr",
     "output_type": "stream",
     "text": [
      "e:\\python3.9\\lib\\site-packages\\pandas\\core\\frame.py:5176: SettingWithCopyWarning: \n",
      "A value is trying to be set on a copy of a slice from a DataFrame\n",
      "\n",
      "See the caveats in the documentation: https://pandas.pydata.org/pandas-docs/stable/user_guide/indexing.html#returning-a-view-versus-a-copy\n",
      "  return super().fillna(\n"
     ]
    }
   ],
   "source": [
    "df4.fillna(1,inplace=True)\n",
    "df4.info()"
   ]
  },
  {
   "cell_type": "code",
   "execution_count": 59,
   "id": "6b53d7da",
   "metadata": {
    "ExecuteTime": {
     "end_time": "2021-12-18T07:34:25.614009Z",
     "start_time": "2021-12-18T07:34:25.597094Z"
    }
   },
   "outputs": [],
   "source": [
    "y=df4['总价']"
   ]
  },
  {
   "cell_type": "code",
   "execution_count": 60,
   "id": "cb8ca05b",
   "metadata": {
    "ExecuteTime": {
     "end_time": "2021-12-18T07:34:25.818441Z",
     "start_time": "2021-12-18T07:34:25.802484Z"
    }
   },
   "outputs": [],
   "source": [
    "x=df4.drop('总价',axis=1)\n"
   ]
  },
  {
   "cell_type": "code",
   "execution_count": 61,
   "id": "0356d9a4",
   "metadata": {
    "ExecuteTime": {
     "end_time": "2021-12-18T07:34:26.285935Z",
     "start_time": "2021-12-18T07:34:26.261001Z"
    }
   },
   "outputs": [],
   "source": [
    "xtrain,xtest,ytrain,ytest=train_test_split(x,y,test_size=0.3)"
   ]
  },
  {
   "cell_type": "code",
   "execution_count": 100,
   "id": "0fb81607",
   "metadata": {
    "ExecuteTime": {
     "end_time": "2021-12-18T08:10:11.402436Z",
     "start_time": "2021-12-18T08:10:09.228252Z"
    }
   },
   "outputs": [
    {
     "data": {
      "text/plain": [
       "0.9993485590567989"
      ]
     },
     "execution_count": 100,
     "metadata": {},
     "output_type": "execute_result"
    }
   ],
   "source": [
    "rfc=RandomForestRegressor()\n",
    "rfc=rfc.fit(xtrain,ytrain)\n",
    "\n",
    "result=rfc.score(xtest,ytest)\n",
    "result"
   ]
  },
  {
   "cell_type": "code",
   "execution_count": 81,
   "id": "f8e48805",
   "metadata": {
    "ExecuteTime": {
     "end_time": "2021-12-18T07:54:53.831478Z",
     "start_time": "2021-12-18T07:54:53.781446Z"
    }
   },
   "outputs": [
    {
     "name": "stdout",
     "output_type": "stream",
     "text": [
      "<class 'pandas.core.frame.DataFrame'>\n",
      "RangeIndex: 41563 entries, 0 to 41562\n",
      "Data columns (total 6 columns):\n",
      " #   Column  Non-Null Count  Dtype  \n",
      "---  ------  --------------  -----  \n",
      " 0   面积      41563 non-null  float64\n",
      " 1   楼层得分    41563 non-null  int64  \n",
      " 2   装修得分    41563 non-null  float64\n",
      " 3   房间数得分   41563 non-null  float64\n",
      " 4   楼属性得分   41563 non-null  int64  \n",
      " 5   总价      41563 non-null  float64\n",
      "dtypes: float64(4), int64(2)\n",
      "memory usage: 1.9 MB\n"
     ]
    },
    {
     "name": "stderr",
     "output_type": "stream",
     "text": [
      "C:\\Users\\tian\\AppData\\Local\\Temp/ipykernel_4408/198479029.py:1: SettingWithCopyWarning: \n",
      "A value is trying to be set on a copy of a slice from a DataFrame.\n",
      "Try using .loc[row_indexer,col_indexer] = value instead\n",
      "\n",
      "See the caveats in the documentation: https://pandas.pydata.org/pandas-docs/stable/user_guide/indexing.html#returning-a-view-versus-a-copy\n",
      "  df4['面积']=df4['面积'].apply(lambda x:float(x))\n"
     ]
    }
   ],
   "source": [
    "df4['面积']=df4['面积'].apply(lambda x:float(x))\n",
    "df4.info()"
   ]
  },
  {
   "cell_type": "code",
   "execution_count": 86,
   "id": "e153f11e",
   "metadata": {
    "ExecuteTime": {
     "end_time": "2021-12-18T08:03:02.042333Z",
     "start_time": "2021-12-18T08:03:02.021365Z"
    }
   },
   "outputs": [
    {
     "data": {
      "text/html": [
       "<div>\n",
       "<style scoped>\n",
       "    .dataframe tbody tr th:only-of-type {\n",
       "        vertical-align: middle;\n",
       "    }\n",
       "\n",
       "    .dataframe tbody tr th {\n",
       "        vertical-align: top;\n",
       "    }\n",
       "\n",
       "    .dataframe thead th {\n",
       "        text-align: right;\n",
       "    }\n",
       "</style>\n",
       "<table border=\"1\" class=\"dataframe\">\n",
       "  <thead>\n",
       "    <tr style=\"text-align: right;\">\n",
       "      <th></th>\n",
       "      <th>面积</th>\n",
       "      <th>楼层得分</th>\n",
       "      <th>装修得分</th>\n",
       "      <th>房间数得分</th>\n",
       "      <th>楼属性得分</th>\n",
       "      <th>总价</th>\n",
       "    </tr>\n",
       "  </thead>\n",
       "  <tbody>\n",
       "    <tr>\n",
       "      <th>面积</th>\n",
       "      <td>1.000000</td>\n",
       "      <td>0.048568</td>\n",
       "      <td>0.028363</td>\n",
       "      <td>0.768568</td>\n",
       "      <td>-0.017671</td>\n",
       "      <td>0.844361</td>\n",
       "    </tr>\n",
       "    <tr>\n",
       "      <th>楼层得分</th>\n",
       "      <td>0.048568</td>\n",
       "      <td>1.000000</td>\n",
       "      <td>0.008360</td>\n",
       "      <td>0.015112</td>\n",
       "      <td>0.075373</td>\n",
       "      <td>0.091157</td>\n",
       "    </tr>\n",
       "    <tr>\n",
       "      <th>装修得分</th>\n",
       "      <td>0.028363</td>\n",
       "      <td>0.008360</td>\n",
       "      <td>1.000000</td>\n",
       "      <td>0.026825</td>\n",
       "      <td>0.162836</td>\n",
       "      <td>0.081737</td>\n",
       "    </tr>\n",
       "    <tr>\n",
       "      <th>房间数得分</th>\n",
       "      <td>0.768568</td>\n",
       "      <td>0.015112</td>\n",
       "      <td>0.026825</td>\n",
       "      <td>1.000000</td>\n",
       "      <td>-0.079485</td>\n",
       "      <td>0.582644</td>\n",
       "    </tr>\n",
       "    <tr>\n",
       "      <th>楼属性得分</th>\n",
       "      <td>-0.017671</td>\n",
       "      <td>0.075373</td>\n",
       "      <td>0.162836</td>\n",
       "      <td>-0.079485</td>\n",
       "      <td>1.000000</td>\n",
       "      <td>0.131622</td>\n",
       "    </tr>\n",
       "    <tr>\n",
       "      <th>总价</th>\n",
       "      <td>0.844361</td>\n",
       "      <td>0.091157</td>\n",
       "      <td>0.081737</td>\n",
       "      <td>0.582644</td>\n",
       "      <td>0.131622</td>\n",
       "      <td>1.000000</td>\n",
       "    </tr>\n",
       "  </tbody>\n",
       "</table>\n",
       "</div>"
      ],
      "text/plain": [
       "             面积      楼层得分      装修得分     房间数得分     楼属性得分        总价\n",
       "面积     1.000000  0.048568  0.028363  0.768568 -0.017671  0.844361\n",
       "楼层得分   0.048568  1.000000  0.008360  0.015112  0.075373  0.091157\n",
       "装修得分   0.028363  0.008360  1.000000  0.026825  0.162836  0.081737\n",
       "房间数得分  0.768568  0.015112  0.026825  1.000000 -0.079485  0.582644\n",
       "楼属性得分 -0.017671  0.075373  0.162836 -0.079485  1.000000  0.131622\n",
       "总价     0.844361  0.091157  0.081737  0.582644  0.131622  1.000000"
      ]
     },
     "execution_count": 86,
     "metadata": {},
     "output_type": "execute_result"
    }
   ],
   "source": [
    "temp=df4.corr()\n",
    "temp"
   ]
  },
  {
   "cell_type": "code",
   "execution_count": 88,
   "id": "b8b3d7ac",
   "metadata": {
    "ExecuteTime": {
     "end_time": "2021-12-18T08:03:51.994642Z",
     "start_time": "2021-12-18T08:03:51.844044Z"
    }
   },
   "outputs": [
    {
     "data": {
      "text/plain": [
       "<AxesSubplot:>"
      ]
     },
     "execution_count": 88,
     "metadata": {},
     "output_type": "execute_result"
    },
    {
     "data": {
      "image/png": "[encoded data removed]",
      "text/plain": [
       "<Figure size 432x288 with 2 Axes>"
      ]
     },
     "metadata": {
      "needs_background": "light"
     },
     "output_type": "display_data"
    }
   ],
   "source": [
    "sns.heatmap(temp)"
   ]
  },
  {
   "cell_type": "code",
   "execution_count": 98,
   "id": "1934b499",
   "metadata": {
    "ExecuteTime": {
     "end_time": "2021-12-18T08:08:13.225950Z",
     "start_time": "2021-12-18T08:08:13.202013Z"
    }
   },
   "outputs": [
    {
     "data": {
      "text/plain": [
       "array([0.87525591, 0.01799104, 0.02394582, 0.036888  , 0.04591923])"
      ]
     },
     "execution_count": 98,
     "metadata": {},
     "output_type": "execute_result"
    }
   ],
   "source": [
    "rfc.feature_importances_ "
   ]
  },
  {
   "cell_type": "code",
   "execution_count": 97,
   "id": "a665c934",
   "metadata": {
    "ExecuteTime": {
     "end_time": "2021-12-18T08:07:30.682895Z",
     "start_time": "2021-12-18T08:07:30.649992Z"
    }
   },
   "outputs": [
    {
     "name": "stdout",
     "output_type": "stream",
     "text": [
      "('面积', 0.8752559127303298)\n",
      "('楼层得分', 0.017991042532621765)\n",
      "('装修得分', 0.023945817916917)\n",
      "('房间数得分', 0.036888000092826626)\n",
      "('楼属性得分', 0.045919226727304835)\n"
     ]
    }
   ],
   "source": [
    "imt=rfc.feature_importances_  \n",
    "for i in  zip(df4.columns[:-1],imt):\n",
    "    print(i)"
   ]
  },
  {
   "cell_type": "code",
   "execution_count": 68,
   "id": "8e9469c9",
   "metadata": {
    "ExecuteTime": {
     "end_time": "2021-12-18T07:38:45.927652Z",
     "start_time": "2021-12-18T07:38:45.908702Z"
    }
   },
   "outputs": [
    {
     "data": {
      "text/plain": [
       "array([110.94002741])"
      ]
     },
     "execution_count": 68,
     "metadata": {},
     "output_type": "execute_result"
    }
   ],
   "source": [
    "rfc.predict([[55,2,5,4,3]])"
   ]
  },
  {
   "cell_type": "code",
   "execution_count": null,
   "id": "a4e31264",
   "metadata": {},
   "outputs": [],
   "source": []
  }
 ],
 "metadata": {
  "kernelspec": {
   "display_name": "Python 3 (ipykernel)",
   "language": "python",
   "name": "python3"
  },
  "language_info": {
   "codemirror_mode": {
    "name": "ipython",
    "version": 3
   },
   "file_extension": ".py",
   "mimetype": "text/x-python",
   "name": "python",
   "nbconvert_exporter": "python",
   "pygments_lexer": "ipython3",
   "version": "3.9.6"
  },
  "toc": {
   "base_numbering": 1,
   "nav_menu": {},
   "number_sections": true,
   "sideBar": true,
   "skip_h1_title": false,
   "title_cell": "Table of Contents",
   "title_sidebar": "Contents",
   "toc_cell": false,
   "toc_position": {},
   "toc_section_display": true,
   "toc_window_display": false
  },
  "varInspector": {
   "cols": {
    "lenName": 16,
    "lenType": 16,
    "lenVar": 40
   },
   "kernels_config": {
    "python": {
     "delete_cmd_postfix": "",
     "delete_cmd_prefix": "del ",
     "library": "var_list.py",
     "varRefreshCmd": "print(var_dic_list())"
    },
    "r": {
     "delete_cmd_postfix": ") ",
     "delete_cmd_prefix": "rm(",
     "library": "var_list.r",
     "varRefreshCmd": "cat(var_dic_list()) "
    }
   },
   "types_to_exclude": [
    "module",
    "function",
    "builtin_function_or_method",
    "instance",
    "_Feature"
   ],
   "window_display": false
  }
 },
 "nbformat": 4,
 "nbformat_minor": 5
}

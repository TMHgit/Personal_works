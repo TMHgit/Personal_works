{
 "cells": [
  {
   "cell_type": "code",
   "execution_count": 12,
   "id": "d70fafc3",
   "metadata": {},
   "outputs": [],
   "source": [
    "import numpy as np \n",
    "import matplotlib.pyplot as plt\n",
    "import pandas as pd "
   ]
  },
  {
   "cell_type": "code",
   "execution_count": 13,
   "id": "409caa8e",
   "metadata": {},
   "outputs": [
    {
     "data": {
      "text/html": [
       "<div>\n",
       "<style scoped>\n",
       "    .dataframe tbody tr th:only-of-type {\n",
       "        vertical-align: middle;\n",
       "    }\n",
       "\n",
       "    .dataframe tbody tr th {\n",
       "        vertical-align: top;\n",
       "    }\n",
       "\n",
       "    .dataframe thead th {\n",
       "        text-align: right;\n",
       "    }\n",
       "</style>\n",
       "<table border=\"1\" class=\"dataframe\">\n",
       "  <thead>\n",
       "    <tr style=\"text-align: right;\">\n",
       "      <th></th>\n",
       "      <th>content</th>\n",
       "      <th>content_type</th>\n",
       "    </tr>\n",
       "  </thead>\n",
       "  <tbody>\n",
       "    <tr>\n",
       "      <th>0</th>\n",
       "      <td>产品非常好，拿到的时候非常敬业阿，这个外观非常好看阿，东西非趁还是很好的，一如既往的很好这次...</td>\n",
       "      <td>pos</td>\n",
       "    </tr>\n",
       "    <tr>\n",
       "      <th>1</th>\n",
       "      <td>还是可以的老婆觉得贵，用了感觉也不是特别好，拿到的时候非常敬业阿，这个外观非常好看阿，东西非...</td>\n",
       "      <td>pos</td>\n",
       "    </tr>\n",
       "    <tr>\n",
       "      <th>2</th>\n",
       "      <td>这只的质地简直是我最喜欢的一支口红，没有之一，试完641立马下单了999，肉眼可见的润，而且...</td>\n",
       "      <td>pos</td>\n",
       "    </tr>\n",
       "    <tr>\n",
       "      <th>3</th>\n",
       "      <td>第一次买迪奥080也是第一次京东自营买！看某书分享的真伪辨别方法感觉是真的吧！老公送我的但还...</td>\n",
       "      <td>pos</td>\n",
       "    </tr>\n",
       "    <tr>\n",
       "      <th>4</th>\n",
       "      <td>产品质感：哑光，但是不干，很顺滑，超级舒服！！！质感超棒！！\\n产品颜色：这只太好看，太温柔...</td>\n",
       "      <td>pos</td>\n",
       "    </tr>\n",
       "    <tr>\n",
       "      <th>...</th>\n",
       "      <td>...</td>\n",
       "      <td>...</td>\n",
       "    </tr>\n",
       "    <tr>\n",
       "      <th>1995</th>\n",
       "      <td>20号买的时候320块，才过一天都变成275块了，我****</td>\n",
       "      <td>neg</td>\n",
       "    </tr>\n",
       "    <tr>\n",
       "      <th>1996</th>\n",
       "      <td>产品质感：这是个什么情况，出现这样一个现象\",\"vcontent\":\"{$%&amp;产品质感：&amp;%...</td>\n",
       "      <td>neg</td>\n",
       "    </tr>\n",
       "    <tr>\n",
       "      <th>1997</th>\n",
       "      <td>其他特色：这就不是什么礼盒，只是个盒子。\",\"vcontent\":\"{$%&amp;其他特色：&amp;%$...</td>\n",
       "      <td>neg</td>\n",
       "    </tr>\n",
       "    <tr>\n",
       "      <th>1998</th>\n",
       "      <td>说句实话将近400的东西盒子里的东西也太简陋了吧，就一点絮絮子加支口红，三瓶小样，但是口红质...</td>\n",
       "      <td>neg</td>\n",
       "    </tr>\n",
       "    <tr>\n",
       "      <th>1999</th>\n",
       "      <td>刚买就降价不说什么，保价不退，客服三天联系不到人了</td>\n",
       "      <td>neg</td>\n",
       "    </tr>\n",
       "  </tbody>\n",
       "</table>\n",
       "<p>2000 rows × 2 columns</p>\n",
       "</div>"
      ],
      "text/plain": [
       "                                                content content_type\n",
       "0     产品非常好，拿到的时候非常敬业阿，这个外观非常好看阿，东西非趁还是很好的，一如既往的很好这次...          pos\n",
       "1     还是可以的老婆觉得贵，用了感觉也不是特别好，拿到的时候非常敬业阿，这个外观非常好看阿，东西非...          pos\n",
       "2     这只的质地简直是我最喜欢的一支口红，没有之一，试完641立马下单了999，肉眼可见的润，而且...          pos\n",
       "3     第一次买迪奥080也是第一次京东自营买！看某书分享的真伪辨别方法感觉是真的吧！老公送我的但还...          pos\n",
       "4     产品质感：哑光，但是不干，很顺滑，超级舒服！！！质感超棒！！\\n产品颜色：这只太好看，太温柔...          pos\n",
       "...                                                 ...          ...\n",
       "1995                     20号买的时候320块，才过一天都变成275块了，我****          neg\n",
       "1996  产品质感：这是个什么情况，出现这样一个现象\",\"vcontent\":\"{$%&产品质感：&%...          neg\n",
       "1997  其他特色：这就不是什么礼盒，只是个盒子。\",\"vcontent\":\"{$%&其他特色：&%$...          neg\n",
       "1998  说句实话将近400的东西盒子里的东西也太简陋了吧，就一点絮絮子加支口红，三瓶小样，但是口红质...          neg\n",
       "1999                          刚买就降价不说什么，保价不退，客服三天联系不到人了          neg\n",
       "\n",
       "[2000 rows x 2 columns]"
      ]
     },
     "execution_count": 13,
     "metadata": {},
     "output_type": "execute_result"
    }
   ],
   "source": [
    "df=pd.read_excel('C:/Users/tian/Desktop/数据data/京东口红评论数据.xlsx',header=0)\n",
    "df"
   ]
  },
  {
   "cell_type": "code",
   "execution_count": 14,
   "id": "63941114",
   "metadata": {},
   "outputs": [],
   "source": [
    "import jieba"
   ]
  },
  {
   "cell_type": "code",
   "execution_count": 15,
   "id": "9f209311",
   "metadata": {},
   "outputs": [],
   "source": [
    "data_good=df[df['content_type']=='pos'].content.to_list()\n",
    "\n",
    "data_bad=df[df['content_type']!='pos'].content.to_list()"
   ]
  },
  {
   "cell_type": "code",
   "execution_count": null,
   "id": "6f250705",
   "metadata": {},
   "outputs": [],
   "source": []
  },
  {
   "cell_type": "code",
   "execution_count": 16,
   "id": "ebbff48f",
   "metadata": {},
   "outputs": [
    {
     "name": "stderr",
     "output_type": "stream",
     "text": [
      "Building prefix dict from the default dictionary ...\n",
      "Loading model from cache C:\\Users\\tian\\AppData\\Local\\Temp\\jieba.cache\n",
      "Loading model cost 0.643 seconds.\n",
      "Prefix dict has been built successfully.\n"
     ]
    }
   ],
   "source": [
    "datas = ['data_good','data_bad']\n",
    "samples=[]\n",
    "for data in datas:\n",
    "    for x in eval(data):\n",
    "        str_=jieba.lcut(x)\n",
    "        str_=filter(lambda x: len(x)>1,str_)\n",
    "        samples.append((data,' '.join(str_)))\n"
   ]
  },
  {
   "cell_type": "code",
   "execution_count": 17,
   "id": "615a86c5",
   "metadata": {},
   "outputs": [],
   "source": [
    "import random\n",
    "random.shuffle(samples)"
   ]
  },
  {
   "cell_type": "code",
   "execution_count": 18,
   "id": "7f2aa14d",
   "metadata": {},
   "outputs": [],
   "source": [
    "y,X=zip(*samples)"
   ]
  },
  {
   "cell_type": "code",
   "execution_count": 19,
   "id": "d6f76c80",
   "metadata": {},
   "outputs": [],
   "source": [
    "from sklearn.model_selection import train_test_split\n",
    "\n",
    "xtrain,xtest,ytrain,ytest = train_test_split(X,y)"
   ]
  },
  {
   "cell_type": "code",
   "execution_count": 20,
   "id": "a529ed78",
   "metadata": {},
   "outputs": [],
   "source": [
    "# 停词表\n",
    "stopwords=pd.read_csv(r'C:/Users/tian/Desktop/数据data/stopwords.txt',index_col=False,quoting=3,sep='\\t',names=['stopword'],encoding='utf-8')\n",
    "stopwords=stopwords['stopword'].values.tolist()"
   ]
  },
  {
   "cell_type": "code",
   "execution_count": 21,
   "id": "d4e7c2f3",
   "metadata": {},
   "outputs": [],
   "source": [
    "from sklearn.feature_extraction.text import CountVectorizer\n",
    "from sklearn.feature_extraction.text import TfidfVectorizer\n"
   ]
  },
  {
   "cell_type": "code",
   "execution_count": 22,
   "id": "de38970d",
   "metadata": {},
   "outputs": [],
   "source": [
    "vec=CountVectorizer(stop_words=stopwords,max_features=60000).fit(xtrain) #词频统计  训练模型\n",
    "tf_idf=TfidfVectorizer(stop_words=stopwords,max_features=60000).fit(xtrain) # TF-IDF 值越大越重要\n",
    "# 词袋总特征数60000个，已经去掉停用词\n",
    "xtrain_=vec.transform(xtrain)\n",
    "xtest_=vec.transform(xtest)\n",
    "\n",
    "xtrain_df=tf_idf.transform(xtrain)\n",
    "xtest_df=tf_idf.transform(xtest)"
   ]
  },
  {
   "cell_type": "code",
   "execution_count": 23,
   "id": "e7589712",
   "metadata": {},
   "outputs": [],
   "source": [
    "from sklearn.naive_bayes import GaussianNB # 高斯朴素贝叶斯\n",
    "from sklearn.naive_bayes import BernoulliNB # 伯努利朴素贝叶斯\n",
    "from sklearn.naive_bayes import MultinomialNB #多项式朴素贝叶斯\n",
    "from sklearn.naive_bayes import ComplementNB #补集朴素贝叶斯"
   ]
  },
  {
   "cell_type": "code",
   "execution_count": 24,
   "id": "c6c0dde0",
   "metadata": {},
   "outputs": [],
   "source": [
    "nb=MultinomialNB().fit(xtrain_,ytrain)\n",
    "nb_df=MultinomialNB().fit(xtrain_df,ytrain)"
   ]
  },
  {
   "cell_type": "code",
   "execution_count": 25,
   "id": "16794101",
   "metadata": {},
   "outputs": [
    {
     "name": "stdout",
     "output_type": "stream",
     "text": [
      "0.9\n",
      "0.924\n"
     ]
    }
   ],
   "source": [
    "print(nb.score(xtest_,ytest))\n",
    "print(nb_df.score(xtest_df,ytest))"
   ]
  },
  {
   "cell_type": "code",
   "execution_count": 26,
   "id": "17da6206",
   "metadata": {},
   "outputs": [],
   "source": [
    "text='客服太懒了'\n",
    "texts=[' '.join(jieba.lcut(text))]\n",
    "tex=vec.transform(texts)"
   ]
  },
  {
   "cell_type": "code",
   "execution_count": 27,
   "id": "27a724b7",
   "metadata": {},
   "outputs": [
    {
     "data": {
      "text/plain": [
       "array(['data_bad'], dtype='<U9')"
      ]
     },
     "execution_count": 27,
     "metadata": {},
     "output_type": "execute_result"
    }
   ],
   "source": [
    "nb_df.predict(tex)"
   ]
  },
  {
   "cell_type": "code",
   "execution_count": 28,
   "id": "ddb4cfc4",
   "metadata": {},
   "outputs": [
    {
     "data": {
      "text/plain": [
       "array([[0.93563425, 0.06436575]])"
      ]
     },
     "execution_count": 28,
     "metadata": {},
     "output_type": "execute_result"
    }
   ],
   "source": [
    "nb_df.predict_proba(tex)"
   ]
  },
  {
   "cell_type": "code",
   "execution_count": 29,
   "id": "3ab314dc",
   "metadata": {},
   "outputs": [
    {
     "data": {
      "text/plain": [
       "array(['data_good', 'data_bad', 'data_good', 'data_good', 'data_bad',\n",
       "       'data_good', 'data_good', 'data_bad', 'data_good', 'data_good'],\n",
       "      dtype='<U9')"
      ]
     },
     "execution_count": 29,
     "metadata": {},
     "output_type": "execute_result"
    }
   ],
   "source": [
    "xt=vec.transform(X)\n",
    "nb.predict(xt)[:10]"
   ]
  },
  {
   "cell_type": "code",
   "execution_count": 30,
   "id": "425e8fff",
   "metadata": {},
   "outputs": [
    {
     "data": {
      "text/plain": [
       "'data_bad'"
      ]
     },
     "execution_count": 30,
     "metadata": {},
     "output_type": "execute_result"
    }
   ],
   "source": [
    "nb.predict(tex)[0]"
   ]
  },
  {
   "cell_type": "code",
   "execution_count": 31,
   "id": "2fc13985",
   "metadata": {},
   "outputs": [
    {
     "data": {
      "text/plain": [
       "array([[0.958947, 0.041053]])"
      ]
     },
     "execution_count": 31,
     "metadata": {},
     "output_type": "execute_result"
    }
   ],
   "source": [
    "nb.predict_proba(tex)"
   ]
  },
  {
   "cell_type": "code",
   "execution_count": null,
   "id": "9f7d698f",
   "metadata": {},
   "outputs": [],
   "source": []
  },
  {
   "cell_type": "code",
   "execution_count": null,
   "id": "99ce4a1f",
   "metadata": {},
   "outputs": [],
   "source": []
  }
 ],
 "metadata": {
  "kernelspec": {
   "display_name": "Python 3 (ipykernel)",
   "language": "python",
   "name": "python3"
  },
  "language_info": {
   "codemirror_mode": {
    "name": "ipython",
    "version": 3
   },
   "file_extension": ".py",
   "mimetype": "text/x-python",
   "name": "python",
   "nbconvert_exporter": "python",
   "pygments_lexer": "ipython3",
   "version": "3.9.6"
  }
 },
 "nbformat": 4,
 "nbformat_minor": 5
}

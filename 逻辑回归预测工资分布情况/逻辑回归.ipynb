{
 "cells": [
  {
   "cell_type": "code",
   "execution_count": 2,
   "id": "749613b1",
   "metadata": {},
   "outputs": [],
   "source": [
    "import numpy as np \n",
    "import matplotlib.pyplot as plt\n",
    "import pandas as pd "
   ]
  },
  {
   "cell_type": "code",
   "execution_count": 3,
   "id": "fed4d966",
   "metadata": {},
   "outputs": [
    {
     "name": "stdout",
     "output_type": "stream",
     "text": [
      "<class 'pandas.core.frame.DataFrame'>\n",
      "RangeIndex: 32561 entries, 0 to 32560\n",
      "Data columns (total 15 columns):\n",
      " #   Column          Non-Null Count  Dtype \n",
      "---  ------          --------------  ----- \n",
      " 0   age             32561 non-null  int64 \n",
      " 1   workclass       32561 non-null  object\n",
      " 2   final_weight    32561 non-null  int64 \n",
      " 3   education       32561 non-null  object\n",
      " 4   education_num   32561 non-null  int64 \n",
      " 5   marital_status  32561 non-null  object\n",
      " 6   occupation      32561 non-null  object\n",
      " 7   relationship    32561 non-null  object\n",
      " 8   race            32561 non-null  object\n",
      " 9   sex             32561 non-null  object\n",
      " 10  capital_gain    32561 non-null  int64 \n",
      " 11  capital_loss    32561 non-null  int64 \n",
      " 12  hours_per_week  32561 non-null  int64 \n",
      " 13  native_country  32561 non-null  object\n",
      " 14  salary          32561 non-null  object\n",
      "dtypes: int64(6), object(9)\n",
      "memory usage: 3.7+ MB\n"
     ]
    }
   ],
   "source": [
    "df=pd.read_csv('C:/Users/tian/Desktop/数据data/adults.txt')\n",
    "df.info()"
   ]
  },
  {
   "cell_type": "code",
   "execution_count": null,
   "id": "fa8b05d6",
   "metadata": {},
   "outputs": [],
   "source": [
    "df.columns = ['年龄','工薪阶层','最终体重','教育','教育年数','婚姻状况','职业','关系','种族','性别','资本收益','资本损失','每周工作小时','本国','工资']\n"
   ]
  },
  {
   "cell_type": "code",
   "execution_count": 206,
   "id": "3b529370",
   "metadata": {},
   "outputs": [
    {
     "data": {
      "text/html": [
       "<div>\n",
       "<style scoped>\n",
       "    .dataframe tbody tr th:only-of-type {\n",
       "        vertical-align: middle;\n",
       "    }\n",
       "\n",
       "    .dataframe tbody tr th {\n",
       "        vertical-align: top;\n",
       "    }\n",
       "\n",
       "    .dataframe thead th {\n",
       "        text-align: right;\n",
       "    }\n",
       "</style>\n",
       "<table border=\"1\" class=\"dataframe\">\n",
       "  <thead>\n",
       "    <tr style=\"text-align: right;\">\n",
       "      <th></th>\n",
       "      <th>年龄</th>\n",
       "      <th>工薪阶层</th>\n",
       "      <th>最终体重</th>\n",
       "      <th>教育</th>\n",
       "      <th>教育年数</th>\n",
       "      <th>婚姻状况</th>\n",
       "      <th>职业</th>\n",
       "      <th>关系</th>\n",
       "      <th>种族</th>\n",
       "      <th>性别</th>\n",
       "      <th>资本收益</th>\n",
       "      <th>资本损失</th>\n",
       "      <th>每周工作小时</th>\n",
       "      <th>本国</th>\n",
       "      <th>工资</th>\n",
       "    </tr>\n",
       "  </thead>\n",
       "  <tbody>\n",
       "    <tr>\n",
       "      <th>0</th>\n",
       "      <td>39</td>\n",
       "      <td>State-gov</td>\n",
       "      <td>77516</td>\n",
       "      <td>Bachelors</td>\n",
       "      <td>13</td>\n",
       "      <td>Never-married</td>\n",
       "      <td>Adm-clerical</td>\n",
       "      <td>Not-in-family</td>\n",
       "      <td>White</td>\n",
       "      <td>Male</td>\n",
       "      <td>2174</td>\n",
       "      <td>0</td>\n",
       "      <td>40</td>\n",
       "      <td>United-States</td>\n",
       "      <td>&lt;=50K</td>\n",
       "    </tr>\n",
       "    <tr>\n",
       "      <th>1</th>\n",
       "      <td>50</td>\n",
       "      <td>Self-emp-not-inc</td>\n",
       "      <td>83311</td>\n",
       "      <td>Bachelors</td>\n",
       "      <td>13</td>\n",
       "      <td>Married-civ-spouse</td>\n",
       "      <td>Exec-managerial</td>\n",
       "      <td>Husband</td>\n",
       "      <td>White</td>\n",
       "      <td>Male</td>\n",
       "      <td>0</td>\n",
       "      <td>0</td>\n",
       "      <td>13</td>\n",
       "      <td>United-States</td>\n",
       "      <td>&lt;=50K</td>\n",
       "    </tr>\n",
       "    <tr>\n",
       "      <th>2</th>\n",
       "      <td>38</td>\n",
       "      <td>Private</td>\n",
       "      <td>215646</td>\n",
       "      <td>HS-grad</td>\n",
       "      <td>9</td>\n",
       "      <td>Divorced</td>\n",
       "      <td>Handlers-cleaners</td>\n",
       "      <td>Not-in-family</td>\n",
       "      <td>White</td>\n",
       "      <td>Male</td>\n",
       "      <td>0</td>\n",
       "      <td>0</td>\n",
       "      <td>40</td>\n",
       "      <td>United-States</td>\n",
       "      <td>&lt;=50K</td>\n",
       "    </tr>\n",
       "    <tr>\n",
       "      <th>3</th>\n",
       "      <td>53</td>\n",
       "      <td>Private</td>\n",
       "      <td>234721</td>\n",
       "      <td>11th</td>\n",
       "      <td>7</td>\n",
       "      <td>Married-civ-spouse</td>\n",
       "      <td>Handlers-cleaners</td>\n",
       "      <td>Husband</td>\n",
       "      <td>Black</td>\n",
       "      <td>Male</td>\n",
       "      <td>0</td>\n",
       "      <td>0</td>\n",
       "      <td>40</td>\n",
       "      <td>United-States</td>\n",
       "      <td>&lt;=50K</td>\n",
       "    </tr>\n",
       "    <tr>\n",
       "      <th>4</th>\n",
       "      <td>28</td>\n",
       "      <td>Private</td>\n",
       "      <td>338409</td>\n",
       "      <td>Bachelors</td>\n",
       "      <td>13</td>\n",
       "      <td>Married-civ-spouse</td>\n",
       "      <td>Prof-specialty</td>\n",
       "      <td>Wife</td>\n",
       "      <td>Black</td>\n",
       "      <td>Female</td>\n",
       "      <td>0</td>\n",
       "      <td>0</td>\n",
       "      <td>40</td>\n",
       "      <td>Cuba</td>\n",
       "      <td>&lt;=50K</td>\n",
       "    </tr>\n",
       "    <tr>\n",
       "      <th>...</th>\n",
       "      <td>...</td>\n",
       "      <td>...</td>\n",
       "      <td>...</td>\n",
       "      <td>...</td>\n",
       "      <td>...</td>\n",
       "      <td>...</td>\n",
       "      <td>...</td>\n",
       "      <td>...</td>\n",
       "      <td>...</td>\n",
       "      <td>...</td>\n",
       "      <td>...</td>\n",
       "      <td>...</td>\n",
       "      <td>...</td>\n",
       "      <td>...</td>\n",
       "      <td>...</td>\n",
       "    </tr>\n",
       "    <tr>\n",
       "      <th>32556</th>\n",
       "      <td>27</td>\n",
       "      <td>Private</td>\n",
       "      <td>257302</td>\n",
       "      <td>Assoc-acdm</td>\n",
       "      <td>12</td>\n",
       "      <td>Married-civ-spouse</td>\n",
       "      <td>Tech-support</td>\n",
       "      <td>Wife</td>\n",
       "      <td>White</td>\n",
       "      <td>Female</td>\n",
       "      <td>0</td>\n",
       "      <td>0</td>\n",
       "      <td>38</td>\n",
       "      <td>United-States</td>\n",
       "      <td>&lt;=50K</td>\n",
       "    </tr>\n",
       "    <tr>\n",
       "      <th>32557</th>\n",
       "      <td>40</td>\n",
       "      <td>Private</td>\n",
       "      <td>154374</td>\n",
       "      <td>HS-grad</td>\n",
       "      <td>9</td>\n",
       "      <td>Married-civ-spouse</td>\n",
       "      <td>Machine-op-inspct</td>\n",
       "      <td>Husband</td>\n",
       "      <td>White</td>\n",
       "      <td>Male</td>\n",
       "      <td>0</td>\n",
       "      <td>0</td>\n",
       "      <td>40</td>\n",
       "      <td>United-States</td>\n",
       "      <td>&gt;50K</td>\n",
       "    </tr>\n",
       "    <tr>\n",
       "      <th>32558</th>\n",
       "      <td>58</td>\n",
       "      <td>Private</td>\n",
       "      <td>151910</td>\n",
       "      <td>HS-grad</td>\n",
       "      <td>9</td>\n",
       "      <td>Widowed</td>\n",
       "      <td>Adm-clerical</td>\n",
       "      <td>Unmarried</td>\n",
       "      <td>White</td>\n",
       "      <td>Female</td>\n",
       "      <td>0</td>\n",
       "      <td>0</td>\n",
       "      <td>40</td>\n",
       "      <td>United-States</td>\n",
       "      <td>&lt;=50K</td>\n",
       "    </tr>\n",
       "    <tr>\n",
       "      <th>32559</th>\n",
       "      <td>22</td>\n",
       "      <td>Private</td>\n",
       "      <td>201490</td>\n",
       "      <td>HS-grad</td>\n",
       "      <td>9</td>\n",
       "      <td>Never-married</td>\n",
       "      <td>Adm-clerical</td>\n",
       "      <td>Own-child</td>\n",
       "      <td>White</td>\n",
       "      <td>Male</td>\n",
       "      <td>0</td>\n",
       "      <td>0</td>\n",
       "      <td>20</td>\n",
       "      <td>United-States</td>\n",
       "      <td>&lt;=50K</td>\n",
       "    </tr>\n",
       "    <tr>\n",
       "      <th>32560</th>\n",
       "      <td>52</td>\n",
       "      <td>Self-emp-inc</td>\n",
       "      <td>287927</td>\n",
       "      <td>HS-grad</td>\n",
       "      <td>9</td>\n",
       "      <td>Married-civ-spouse</td>\n",
       "      <td>Exec-managerial</td>\n",
       "      <td>Wife</td>\n",
       "      <td>White</td>\n",
       "      <td>Female</td>\n",
       "      <td>15024</td>\n",
       "      <td>0</td>\n",
       "      <td>40</td>\n",
       "      <td>United-States</td>\n",
       "      <td>&gt;50K</td>\n",
       "    </tr>\n",
       "  </tbody>\n",
       "</table>\n",
       "<p>32561 rows × 15 columns</p>\n",
       "</div>"
      ],
      "text/plain": [
       "       年龄              工薪阶层    最终体重          教育  教育年数                婚姻状况  \\\n",
       "0      39         State-gov   77516   Bachelors    13       Never-married   \n",
       "1      50  Self-emp-not-inc   83311   Bachelors    13  Married-civ-spouse   \n",
       "2      38           Private  215646     HS-grad     9            Divorced   \n",
       "3      53           Private  234721        11th     7  Married-civ-spouse   \n",
       "4      28           Private  338409   Bachelors    13  Married-civ-spouse   \n",
       "...    ..               ...     ...         ...   ...                 ...   \n",
       "32556  27           Private  257302  Assoc-acdm    12  Married-civ-spouse   \n",
       "32557  40           Private  154374     HS-grad     9  Married-civ-spouse   \n",
       "32558  58           Private  151910     HS-grad     9             Widowed   \n",
       "32559  22           Private  201490     HS-grad     9       Never-married   \n",
       "32560  52      Self-emp-inc  287927     HS-grad     9  Married-civ-spouse   \n",
       "\n",
       "                      职业             关系     种族      性别   资本收益  资本损失  每周工作小时  \\\n",
       "0           Adm-clerical  Not-in-family  White    Male   2174     0      40   \n",
       "1        Exec-managerial        Husband  White    Male      0     0      13   \n",
       "2      Handlers-cleaners  Not-in-family  White    Male      0     0      40   \n",
       "3      Handlers-cleaners        Husband  Black    Male      0     0      40   \n",
       "4         Prof-specialty           Wife  Black  Female      0     0      40   \n",
       "...                  ...            ...    ...     ...    ...   ...     ...   \n",
       "32556       Tech-support           Wife  White  Female      0     0      38   \n",
       "32557  Machine-op-inspct        Husband  White    Male      0     0      40   \n",
       "32558       Adm-clerical      Unmarried  White  Female      0     0      40   \n",
       "32559       Adm-clerical      Own-child  White    Male      0     0      20   \n",
       "32560    Exec-managerial           Wife  White  Female  15024     0      40   \n",
       "\n",
       "                  本国     工资  \n",
       "0      United-States  <=50K  \n",
       "1      United-States  <=50K  \n",
       "2      United-States  <=50K  \n",
       "3      United-States  <=50K  \n",
       "4               Cuba  <=50K  \n",
       "...              ...    ...  \n",
       "32556  United-States  <=50K  \n",
       "32557  United-States   >50K  \n",
       "32558  United-States  <=50K  \n",
       "32559  United-States  <=50K  \n",
       "32560  United-States   >50K  \n",
       "\n",
       "[32561 rows x 15 columns]"
      ]
     },
     "execution_count": 206,
     "metadata": {},
     "output_type": "execute_result"
    }
   ],
   "source": [
    "df"
   ]
  },
  {
   "cell_type": "code",
   "execution_count": 8,
   "id": "c6455653",
   "metadata": {},
   "outputs": [],
   "source": [
    "df['性别']=df['性别'].apply(lambda x : 1 if x=='Male' else 0)"
   ]
  },
  {
   "cell_type": "code",
   "execution_count": null,
   "id": "170f9628",
   "metadata": {},
   "outputs": [],
   "source": [
    "df['工薪阶层'].unique().tolist()"
   ]
  },
  {
   "cell_type": "code",
   "execution_count": 19,
   "id": "dacf66f7",
   "metadata": {},
   "outputs": [],
   "source": [
    "encodes=df['工薪阶层'].unique().tolist()\n",
    "df['工薪阶层']=df['工薪阶层'].apply(lambda x:encodes.index(x))"
   ]
  },
  {
   "cell_type": "code",
   "execution_count": null,
   "id": "8be6abba",
   "metadata": {},
   "outputs": [],
   "source": [
    "df['教育'].unique().tolist()"
   ]
  },
  {
   "cell_type": "code",
   "execution_count": 17,
   "id": "af4000d8",
   "metadata": {},
   "outputs": [],
   "source": [
    "encode=df['教育'].unique().tolist()\n",
    "df['教育']=df['教育'].apply(lambda x:encode.index(x))"
   ]
  },
  {
   "cell_type": "code",
   "execution_count": 23,
   "id": "a0a559f4",
   "metadata": {},
   "outputs": [],
   "source": [
    "temp=pd.get_dummies(df['婚姻状况'])\n",
    "df[temp.columns] = temp\n",
    "df.drop(columns=['婚姻状况'],axis=0,inplace=True)"
   ]
  },
  {
   "cell_type": "code",
   "execution_count": null,
   "id": "51fc5a28",
   "metadata": {},
   "outputs": [],
   "source": [
    "df['职业'].unique().tolist()"
   ]
  },
  {
   "cell_type": "code",
   "execution_count": 28,
   "id": "73a9be69",
   "metadata": {},
   "outputs": [
    {
     "data": {
      "text/plain": [
       "[0, 1, 2, 3, 4, 5, 6, 7, 8, 9, 10, 11, 12, 13, 14]"
      ]
     },
     "execution_count": 28,
     "metadata": {},
     "output_type": "execute_result"
    }
   ],
   "source": [
    "encode=df['职业'].unique().tolist()\n",
    "df['职业']=df['职业'].apply(lambda x:encode.index(x))"
   ]
  },
  {
   "cell_type": "code",
   "execution_count": 29,
   "id": "14f82a38",
   "metadata": {},
   "outputs": [
    {
     "data": {
      "text/plain": [
       "['Not-in-family',\n",
       " 'Husband',\n",
       " 'Wife',\n",
       " 'Own-child',\n",
       " 'Unmarried',\n",
       " 'Other-relative']"
      ]
     },
     "execution_count": 29,
     "metadata": {},
     "output_type": "execute_result"
    }
   ],
   "source": [
    "df['关系'].unique().tolist()"
   ]
  },
  {
   "cell_type": "code",
   "execution_count": 30,
   "id": "82a113de",
   "metadata": {},
   "outputs": [],
   "source": [
    "encode=df['关系'].unique().tolist()\n",
    "df['关系']=df['关系'].apply(lambda x:encode.index(x))"
   ]
  },
  {
   "cell_type": "code",
   "execution_count": 32,
   "id": "10240695",
   "metadata": {},
   "outputs": [],
   "source": [
    "temp=pd.get_dummies(df['种族'])\n",
    "df[temp.columns] = temp\n",
    "df.drop(columns=['种族'],axis=0,inplace=True)"
   ]
  },
  {
   "cell_type": "code",
   "execution_count": 36,
   "id": "a9fa2091",
   "metadata": {},
   "outputs": [
    {
     "data": {
      "text/plain": [
       "['United-States',\n",
       " 'Cuba',\n",
       " 'Jamaica',\n",
       " 'India',\n",
       " '?',\n",
       " 'Mexico',\n",
       " 'South',\n",
       " 'Puerto-Rico',\n",
       " 'Honduras',\n",
       " 'England',\n",
       " 'Canada',\n",
       " 'Germany',\n",
       " 'Iran',\n",
       " 'Philippines',\n",
       " 'Italy',\n",
       " 'Poland',\n",
       " 'Columbia',\n",
       " 'Cambodia',\n",
       " 'Thailand',\n",
       " 'Ecuador',\n",
       " 'Laos',\n",
       " 'Taiwan',\n",
       " 'Haiti',\n",
       " 'Portugal',\n",
       " 'Dominican-Republic',\n",
       " 'El-Salvador',\n",
       " 'France',\n",
       " 'Guatemala',\n",
       " 'China',\n",
       " 'Japan',\n",
       " 'Yugoslavia',\n",
       " 'Peru',\n",
       " 'Outlying-US(Guam-USVI-etc)',\n",
       " 'Scotland',\n",
       " 'Trinadad&Tobago',\n",
       " 'Greece',\n",
       " 'Nicaragua',\n",
       " 'Vietnam',\n",
       " 'Hong',\n",
       " 'Ireland',\n",
       " 'Hungary',\n",
       " 'Holand-Netherlands']"
      ]
     },
     "execution_count": 36,
     "metadata": {},
     "output_type": "execute_result"
    }
   ],
   "source": [
    "df['本国'].unique().tolist()"
   ]
  },
  {
   "cell_type": "code",
   "execution_count": 37,
   "id": "f39fd902",
   "metadata": {},
   "outputs": [],
   "source": [
    "encode=df['本国'].unique().tolist()\n",
    "df['本国']=df['本国'].apply(lambda x:encode.index(x))"
   ]
  },
  {
   "cell_type": "code",
   "execution_count": 49,
   "id": "dcb09455",
   "metadata": {},
   "outputs": [
    {
     "data": {
      "text/plain": [
       "Index(['年龄', '工薪阶层', '最终体重', '教育', '教育年数', '职业', '关系', '性别', '资本收益', '资本损失',\n",
       "       '每周工作小时', '本国', '工资', 'Divorced', 'Married-AF-spouse',\n",
       "       'Married-civ-spouse', 'Married-spouse-absent', 'Never-married',\n",
       "       'Separated', 'Widowed', 'Amer-Indian-Eskimo', 'Asian-Pac-Islander',\n",
       "       'Black', 'Other', 'White'],\n",
       "      dtype='object')"
      ]
     },
     "execution_count": 49,
     "metadata": {},
     "output_type": "execute_result"
    }
   ],
   "source": [
    "df.columns"
   ]
  },
  {
   "cell_type": "code",
   "execution_count": 68,
   "id": "db9bdf3e",
   "metadata": {},
   "outputs": [],
   "source": [
    "df_tage=df['工资']\n",
    "df_data=df[df.columns[df.columns.values!='工资']]"
   ]
  },
  {
   "cell_type": "code",
   "execution_count": 70,
   "id": "253c3fa6",
   "metadata": {},
   "outputs": [],
   "source": [
    "#划分数据集\n",
    "from sklearn.model_selection import train_test_split\n",
    "\n",
    "xtrain,xtest,ytrain,ytest = train_test_split(df_data,df_tage,test_size = 0.2)"
   ]
  },
  {
   "cell_type": "code",
   "execution_count": 71,
   "id": "9837d3a0",
   "metadata": {},
   "outputs": [],
   "source": [
    "# 标准化\n",
    "from sklearn.preprocessing import MinMaxScaler  # 0-1标准化\n",
    "from sklearn.preprocessing import StandardScaler # 标准化缩放\n",
    "std = StandardScaler().fit(xtrain)\n",
    "xtrain_=std.transform(xtrain) # 标准化后的数据\n",
    "xtest_=std.transform(xtest)  #标准化后的数据"
   ]
  },
  {
   "cell_type": "code",
   "execution_count": 73,
   "id": "efb1d999",
   "metadata": {},
   "outputs": [],
   "source": [
    "from sklearn.linear_model import LogisticRegression\n",
    "lrs_=LogisticRegression(\n",
    "    penalty='l2', # l2  L2 惩罚项又叫正则项  防止模型下降或上升过快\n",
    "    tol=0.0001, # 收敛域\n",
    "    C=1.0,# 正则强度\n",
    "    fit_intercept=True, # 截距项\n",
    "    solver='lbfgs',# 梯度下降算子，L2:，L1:\n",
    "    max_iter=100,# 最大迭代次数\n",
    ").fit(xtrain_,ytrain)"
   ]
  },
  {
   "cell_type": "code",
   "execution_count": 74,
   "id": "a993a48a",
   "metadata": {},
   "outputs": [
    {
     "data": {
      "text/plain": [
       "(0.8446713759213759, 0.8421618301857823)"
      ]
     },
     "execution_count": 74,
     "metadata": {},
     "output_type": "execute_result"
    }
   ],
   "source": [
    "lrs_.score(xtrain_,ytrain),lrs_.score(xtest_,ytest)"
   ]
  },
  {
   "cell_type": "code",
   "execution_count": 79,
   "id": "e69da9fe",
   "metadata": {},
   "outputs": [
    {
     "data": {
      "text/plain": [
       "array(['<=50K', '<=50K', '<=50K', '<=50K', '<=50K', '<=50K', '<=50K',\n",
       "       '<=50K', '>50K', '<=50K'], dtype=object)"
      ]
     },
     "execution_count": 79,
     "metadata": {},
     "output_type": "execute_result"
    }
   ],
   "source": [
    "lrs_.predict(xtest)[:10]"
   ]
  },
  {
   "cell_type": "code",
   "execution_count": 78,
   "id": "447c721f",
   "metadata": {},
   "outputs": [
    {
     "data": {
      "text/plain": [
       "31101    <=50K\n",
       "1976     <=50K\n",
       "12784    <=50K\n",
       "22138    <=50K\n",
       "25291    <=50K\n",
       "30280    <=50K\n",
       "29286    <=50K\n",
       "15423    <=50K\n",
       "9766      >50K\n",
       "14442    <=50K\n",
       "Name: 工资, dtype: object"
      ]
     },
     "execution_count": 78,
     "metadata": {},
     "output_type": "execute_result"
    }
   ],
   "source": [
    "ytest[:10]"
   ]
  },
  {
   "cell_type": "code",
   "execution_count": 211,
   "id": "4d99e12d",
   "metadata": {},
   "outputs": [],
   "source": [
    "# 哑变量矩阵\n",
    "# temp=pd.get_dummies(df['性别'])\n",
    "# df[temp.columns] = temp\n",
    "# df.drop(columns=['Female','Male'],axis=0,inplace=True)"
   ]
  },
  {
   "cell_type": "code",
   "execution_count": null,
   "id": "8f3baab3",
   "metadata": {},
   "outputs": [],
   "source": []
  },
  {
   "cell_type": "code",
   "execution_count": null,
   "id": "34df40af",
   "metadata": {},
   "outputs": [],
   "source": []
  },
  {
   "cell_type": "code",
   "execution_count": null,
   "id": "341999b3",
   "metadata": {},
   "outputs": [],
   "source": []
  },
  {
   "cell_type": "code",
   "execution_count": null,
   "id": "bb2a3a4a",
   "metadata": {},
   "outputs": [],
   "source": [
    "from sklearn.model_selection import train_test_split\n",
    "\n",
    "xtrain,xtest,ytrain,ytest = train_test_split(,df_tage,test_size = 0.2)\n"
   ]
  },
  {
   "cell_type": "code",
   "execution_count": null,
   "id": "f6e086a4",
   "metadata": {},
   "outputs": [],
   "source": [
    "# 标准化\n",
    "from sklearn.preprocessing import MinMaxScaler  # 0-1标准化\n",
    "from sklearn.preprocessing import StandardScaler # 标准化缩放\n",
    "std = StandardScaler().fit(xtrain)\n",
    "xtrain_=std.transform(xtrain) # 标准化后的数据\n",
    "xtest_=std.transform(xtest)  #标准化后的数据"
   ]
  },
  {
   "cell_type": "code",
   "execution_count": 193,
   "id": "602502e7",
   "metadata": {},
   "outputs": [],
   "source": [
    "from sklearn.linear_model import LogisticRegression\n",
    "lrr=LogisticRegression(\n",
    "    penalty='l2', # l2  L2 惩罚项又叫正则项  防止模型下降或上升过快\n",
    "\n",
    "    tol=0.0001, # 收敛域\n",
    "    C=1.0,# 正则强度\n",
    "    fit_intercept=True, # 截距项\n",
    "    solver='lbfgs',# 梯度下降算子，L2:，L1:\n",
    "    max_iter=100,# 最大迭代次数\n",
    ").fit(X,y)"
   ]
  },
  {
   "cell_type": "code",
   "execution_count": null,
   "id": "aec7a8a1",
   "metadata": {},
   "outputs": [],
   "source": []
  },
  {
   "cell_type": "code",
   "execution_count": null,
   "id": "89f82b75",
   "metadata": {},
   "outputs": [],
   "source": []
  },
  {
   "cell_type": "code",
   "execution_count": null,
   "id": "9c1f7bd4",
   "metadata": {},
   "outputs": [],
   "source": []
  },
  {
   "cell_type": "code",
   "execution_count": null,
   "id": "397b40e3",
   "metadata": {},
   "outputs": [],
   "source": []
  },
  {
   "cell_type": "code",
   "execution_count": null,
   "id": "79b6b52f",
   "metadata": {},
   "outputs": [],
   "source": []
  },
  {
   "cell_type": "code",
   "execution_count": null,
   "id": "0c78bd3b",
   "metadata": {},
   "outputs": [],
   "source": []
  },
  {
   "cell_type": "code",
   "execution_count": null,
   "id": "c2c8978b",
   "metadata": {},
   "outputs": [],
   "source": []
  },
  {
   "cell_type": "code",
   "execution_count": null,
   "id": "de5be2ca",
   "metadata": {},
   "outputs": [],
   "source": []
  },
  {
   "cell_type": "code",
   "execution_count": null,
   "id": "72c4001a",
   "metadata": {},
   "outputs": [],
   "source": []
  },
  {
   "cell_type": "code",
   "execution_count": null,
   "id": "4991c15c",
   "metadata": {},
   "outputs": [],
   "source": []
  },
  {
   "cell_type": "code",
   "execution_count": 79,
   "id": "1df82223",
   "metadata": {},
   "outputs": [],
   "source": [
    "a=np.array(([1,2],[2,3],[3,4],[4,5],[5,6],[6,7]))"
   ]
  },
  {
   "cell_type": "code",
   "execution_count": 101,
   "id": "190d40c0",
   "metadata": {},
   "outputs": [
    {
     "data": {
      "text/plain": [
       "array([1, 2, 3, 4, 5, 6])"
      ]
     },
     "execution_count": 101,
     "metadata": {},
     "output_type": "execute_result"
    }
   ],
   "source": [
    "a[:,0]"
   ]
  },
  {
   "cell_type": "code",
   "execution_count": 89,
   "id": "910e1e89",
   "metadata": {},
   "outputs": [
    {
     "data": {
      "text/plain": [
       "array([[3, 4],\n",
       "       [4, 5],\n",
       "       [5, 6]])"
      ]
     },
     "execution_count": 89,
     "metadata": {},
     "output_type": "execute_result"
    }
   ],
   "source": [
    "a[2:5,0:2]"
   ]
  },
  {
   "cell_type": "code",
   "execution_count": null,
   "id": "734e3adc",
   "metadata": {},
   "outputs": [],
   "source": []
  },
  {
   "cell_type": "code",
   "execution_count": null,
   "id": "1269a32d",
   "metadata": {},
   "outputs": [],
   "source": []
  }
 ],
 "metadata": {
  "kernelspec": {
   "display_name": "Python 3 (ipykernel)",
   "language": "python",
   "name": "python3"
  },
  "language_info": {
   "codemirror_mode": {
    "name": "ipython",
    "version": 3
   },
   "file_extension": ".py",
   "mimetype": "text/x-python",
   "name": "python",
   "nbconvert_exporter": "python",
   "pygments_lexer": "ipython3",
   "version": "3.9.6"
  }
 },
 "nbformat": 4,
 "nbformat_minor": 5
}
